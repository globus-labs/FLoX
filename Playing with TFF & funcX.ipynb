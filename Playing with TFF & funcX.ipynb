{
 "cells": [
  {
   "cell_type": "code",
   "execution_count": 12,
   "id": "3cf2f45c",
   "metadata": {},
   "outputs": [],
   "source": [
    "def print_hello():\n",
    "    return \"hello\"\n",
    "\n",
    "def print_world():\n",
    "    return \"world\""
   ]
  },
  {
   "cell_type": "code",
   "execution_count": 22,
   "id": "c49982f0",
   "metadata": {},
   "outputs": [],
   "source": [
    "def print_kek():\n",
    "    return \"kek\""
   ]
  },
  {
   "cell_type": "code",
   "execution_count": 25,
   "id": "baa41b4d",
   "metadata": {},
   "outputs": [],
   "source": [
    "def create_function(print_hello=print_hello, print_world=print_world):\n",
    "    \n",
    "    def print_hello_world(name):\n",
    "        word1 = print_hello()\n",
    "        word2 = print_world()\n",
    "        result = f\"{name}, {word1} {word2}!\"\n",
    "        print(result)\n",
    "    \n",
    "    return print_hello_world"
   ]
  },
  {
   "cell_type": "code",
   "execution_count": 27,
   "id": "6f6bbfd7",
   "metadata": {},
   "outputs": [],
   "source": [
    "kek_function = create_function()"
   ]
  },
  {
   "cell_type": "code",
   "execution_count": 28,
   "id": "4d2a6401",
   "metadata": {},
   "outputs": [
    {
     "name": "stdout",
     "output_type": "stream",
     "text": [
      "Kacj, hello world!\n"
     ]
    }
   ],
   "source": [
    "kek_function('Kacj')"
   ]
  },
  {
   "cell_type": "code",
   "execution_count": null,
   "id": "5f7b17e7",
   "metadata": {},
   "outputs": [],
   "source": []
  }
 ],
 "metadata": {
  "kernelspec": {
   "display_name": "Python 3 (ipykernel)",
   "language": "python",
   "name": "python3"
  },
  "language_info": {
   "codemirror_mode": {
    "name": "ipython",
    "version": 3
   },
   "file_extension": ".py",
   "mimetype": "text/x-python",
   "name": "python",
   "nbconvert_exporter": "python",
   "pygments_lexer": "ipython3",
   "version": "3.7.10"
  }
 },
 "nbformat": 4,
 "nbformat_minor": 5
}
