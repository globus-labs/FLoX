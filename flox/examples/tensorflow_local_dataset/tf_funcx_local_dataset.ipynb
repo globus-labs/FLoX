{
 "cells": [
  {
   "attachments": {},
   "cell_type": "markdown",
   "metadata": {},
   "source": [
    "# Tensorflow Local Dataset Tutorial\n",
    "In this tutorial, you will see how to use flox to run FL experiments on Tensorflow using a custom dataset stored on real physical endpoints. We will train our model on the [Animals-10 dataset from Kaggle](https://www.kaggle.com/datasets/alessiocorrado99/animals10)."
   ]
  },
  {
   "cell_type": "code",
   "execution_count": 11,
   "metadata": {},
   "outputs": [],
   "source": [
    "import os\n",
    "import pickle\n",
    "import logging\n",
    "\n",
    "import numpy as np\n",
    "import tensorflow as tf\n",
    "from tensorflow import keras\n",
    "\n",
    "from flox.clients.TensorflowClient import TensorflowClient\n",
    "from flox.controllers.TensorflowController import TensorflowController\n",
    "from flox.model_trainers.TensorflowTrainer import TensorflowTrainer\n",
    "\n",
    "logger = logging.getLogger(__name__)"
   ]
  },
  {
   "attachments": {},
   "cell_type": "markdown",
   "metadata": {},
   "source": [
    "### Load & Process Data\n",
    "\n",
    "First, let's load and preprocess the dataset on the *Controller* for evaluating the model. We will use the Animal-10 dataset, which you can get from [Kaggle](https://www.kaggle.com/datasets/alessiocorrado99/animals10). or download it from this [Google Drive directory](https://drive.google.com/drive/u/0/folders/1nGkoNIuwslvfCyFq4eIVDPGcqCYYCmCu)."
   ]
  },
  {
   "cell_type": "code",
   "execution_count": 7,
   "metadata": {},
   "outputs": [],
   "source": [
    "def process_data(train_image, train_label, num_samples=None):\n",
    "    depth = 3\n",
    "    image_size_y = 32\n",
    "    image_size_x = 32\n",
    "\n",
    "    if num_samples:\n",
    "        idx = np.random.choice(np.arange(len(train_image)), num_samples, replace=True)\n",
    "        train_image = train_image[idx]\n",
    "        train_label = train_label[idx]\n",
    "\n",
    "    train_image = train_image.reshape(\n",
    "        len(train_image), image_size_x, image_size_y, depth\n",
    "    )\n",
    "    train_image = train_image / 255.0\n",
    "\n",
    "    return (train_image, train_label)\n",
    "\n",
    "with open(\"../../../data/test_data_animal10_32.pkl\", \"rb\") as file:\n",
    "    x_test, y_test = pickle.load(file)\n",
    "\n",
    "x_test, y_test = process_data(x_test, y_test)"
   ]
  },
  {
   "attachments": {},
   "cell_type": "markdown",
   "metadata": {},
   "source": [
    "### Defining the Model\n",
    "\n",
    "Next, let's define our Tensorflow model architecture and compile it."
   ]
  },
  {
   "cell_type": "code",
   "execution_count": 12,
   "metadata": {},
   "outputs": [],
   "source": [
    "input_shape = (32, 32, 3)\n",
    "# there are 10 classes in the dataset\n",
    "num_classes = 10\n",
    "\n",
    "# define the model architecture\n",
    "global_model = tf.keras.Sequential(\n",
    "    [\n",
    "        tf.keras.Input(shape=input_shape),\n",
    "        tf.keras.layers.Conv2D(32, kernel_size=(3, 3), activation=\"relu\"),\n",
    "        tf.keras.layers.Conv2D(32, kernel_size=(3, 3), activation=\"relu\"),\n",
    "        tf.keras.layers.MaxPooling2D(pool_size=(2, 2)),\n",
    "        tf.keras.layers.Conv2D(64, kernel_size=(3, 3), activation=\"relu\"),\n",
    "        tf.keras.layers.Conv2D(64, kernel_size=(3, 3), activation=\"relu\"),\n",
    "        tf.keras.layers.MaxPooling2D(pool_size=(2, 2)),\n",
    "        tf.keras.layers.Flatten(),\n",
    "        tf.keras.layers.Dropout(0.5),\n",
    "        tf.keras.layers.Dense(128, activation=\"relu\"),\n",
    "        tf.keras.layers.Dense(num_classes, activation=\"softmax\"),\n",
    "    ]\n",
    ")\n",
    "\n",
    "# compile the model\n",
    "global_model.compile(\n",
    "    loss=\"sparse_categorical_crossentropy\", optimizer=\"adam\", metrics=[\"accuracy\"]\n",
    ")"
   ]
  },
  {
   "attachments": {},
   "cell_type": "markdown",
   "metadata": {},
   "source": [
    "### Instantiating Model Trainer and Client instances\n",
    "\n",
    "Next, we will initialize an instance of a Tensorflow Model Trainer and Client. Note how we are setting loss to \"sparse_categorical_crossentropy\" so that the Model Trainer's methods are compatible with the model defined above. You can check out implementations of the classes under ``flox/model_trainers`` and ``flox/clients``, respectively. You can also extend or modify these classes to fit your needs."
   ]
  },
  {
   "cell_type": "code",
   "execution_count": 13,
   "metadata": {},
   "outputs": [],
   "source": [
    "tf_trainer = TensorflowTrainer(loss=\"sparse_categorical_crossentropy\")\n",
    "tf_client = TensorflowClient()"
   ]
  },
  {
   "attachments": {},
   "cell_type": "markdown",
   "metadata": {},
   "source": [
    "### Instantiating the Controller (FuncX Execution)\n",
    "\n",
    "Now, let's define our endpoints and initialize the PyTorch *Controller* that will do the heavy lifting of deploying tasks to the endpoints. We will run three rounds of FL, with 100 samples and 1 training epoch on each device. Note that we are specifying ``executor_type`` to \"funcx\" and we are providing actual funcx endpoint UUIDs. We are also providing the path to the folder where the data is stored on the devices and the filenames. Finally, we'll launch the experiment."
   ]
  },
  {
   "cell_type": "code",
   "execution_count": null,
   "metadata": {},
   "outputs": [],
   "source": [
    "eps = [\"fb93a1c2-a8d7-49f3-ad59-375f4e298784\", \"c7487b2b-b129-47e2-989b-5a9ac361befc\"]\n",
    "logger.info(f\"Endpoints: {eps}\")\n",
    "\n",
    "flox_controller = TensorflowController(\n",
    "    endpoint_ids=eps,\n",
    "    num_samples=200,\n",
    "    epochs=1,\n",
    "    rounds=3,\n",
    "    client_logic=tf_client,\n",
    "    global_model=global_model,\n",
    "    model_trainer=tf_trainer,\n",
    "    executor_type=\"funcx\",\n",
    "    data_source=\"local\",\n",
    "    path_dir=\"/home/pi/datasets\",\n",
    "    x_train_filename=\"x_animal10_32.npy\",\n",
    "    y_train_filename=\"y_animal10_32.npy\",\n",
    "    input_shape=(32, 32, 32, 3),\n",
    "    x_test=x_test,\n",
    "    y_test=y_test,\n",
    ")\n",
    "\n",
    "logger.info(\"STARTING FL FLOW...\")\n",
    "flox_controller.run_federated_learning()"
   ]
  }
 ],
 "metadata": {
  "kernelspec": {
   "display_name": "tf210",
   "language": "python",
   "name": "python3"
  },
  "language_info": {
   "codemirror_mode": {
    "name": "ipython",
    "version": 3
   },
   "file_extension": ".py",
   "mimetype": "text/x-python",
   "name": "python",
   "nbconvert_exporter": "python",
   "pygments_lexer": "ipython3",
   "version": "3.7.12"
  },
  "orig_nbformat": 4,
  "vscode": {
   "interpreter": {
    "hash": "0b21036698e5632bbf700b22d6dc1c2a972423c4770bbc7b9bb6d144148d12b0"
   }
  }
 },
 "nbformat": 4,
 "nbformat_minor": 2
}
