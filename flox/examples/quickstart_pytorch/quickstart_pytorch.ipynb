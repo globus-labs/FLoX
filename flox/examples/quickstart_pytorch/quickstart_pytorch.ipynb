{
 "cells": [
  {
   "attachments": {},
   "cell_type": "markdown",
   "metadata": {},
   "source": [
    "# Quickstart Pytorch Tutorial\n",
    "\n",
    "In this tutorial, you will see how to use flox to run FL experiments on PyTorch using first a local executor and then using real physical endpoints. We will train our model to classify instances from the CIFAR10 dataset."
   ]
  },
  {
   "cell_type": "code",
   "execution_count": 1,
   "metadata": {},
   "outputs": [],
   "source": [
    "import logging\n",
    "\n",
    "import torch\n",
    "import torch.nn as nn\n",
    "import torch.nn.functional as F\n",
    "import torch.optim as optim\n",
    "import torchvision\n",
    "import torchvision.transforms as transforms\n",
    "from torch import Tensor\n",
    "\n",
    "from flox.clients.PyTorchClient import PyTorchClient\n",
    "from flox.controllers.PyTorchController import PyTorchController\n",
    "from flox.model_trainers.PyTorchTrainer import PyTorchTrainer\n",
    "\n",
    "logger = logging.getLogger(__name__)"
   ]
  },
  {
   "attachments": {},
   "cell_type": "markdown",
   "metadata": {},
   "source": [
    "### Getting Data\n",
    "\n",
    "Firstly, let's get some test data so we can evaluate our model later on. The function below takes in a dictionary with varibles that specify the dataset, batch_size, etc., and returns a train and test ``torch.utils.data.DataLoader`` instance that we will use for testing our models."
   ]
  },
  {
   "cell_type": "code",
   "execution_count": 2,
   "metadata": {},
   "outputs": [
    {
     "name": "stdout",
     "output_type": "stream",
     "text": [
      "Files already downloaded and verified\n",
      "Files already downloaded and verified\n"
     ]
    }
   ],
   "source": [
    "def get_test_data(config):\n",
    "    import torch\n",
    "    import torchvision\n",
    "    import torchvision.transforms as transforms\n",
    "\n",
    "    transform = transforms.Compose(\n",
    "        [\n",
    "            transforms.ToTensor(),\n",
    "            transforms.Normalize((0.5, 0.5, 0.5), (0.5, 0.5, 0.5)),\n",
    "        ]\n",
    "    )\n",
    "\n",
    "    batch_size = config.get(\"batch_size\", 32)\n",
    "    dataset_name = config[\"dataset_name\"]\n",
    "    num_workers = config.get(\"num_workers\", 8)\n",
    "    root = config.get(\"data_root\", \"./data\")\n",
    "\n",
    "    # create train DataLoader\n",
    "    trainset = dataset_name(root=root, train=True, download=True, transform=transform)\n",
    "\n",
    "    train_split_len = (\n",
    "        len(trainset) if \"num_samples\" not in config.keys() else config[\"num_samples\"]\n",
    "    )\n",
    "\n",
    "    train_subpart = torch.utils.data.random_split(\n",
    "        trainset, [train_split_len, len(trainset) - train_split_len]\n",
    "    )[0]\n",
    "    trainloader = torch.utils.data.DataLoader(\n",
    "        train_subpart, batch_size=batch_size, shuffle=True, num_workers=num_workers\n",
    "    )\n",
    "\n",
    "    # create test DataLoader\n",
    "    testset = dataset_name(root=root, train=False, download=True, transform=transform)\n",
    "    test_split_len = (\n",
    "        len(trainset) if \"num_samples\" not in config.keys() else config[\"num_samples\"]\n",
    "    )\n",
    "\n",
    "    test_subpart = torch.utils.data.random_split(\n",
    "        testset, [test_split_len, len(testset) - test_split_len]\n",
    "    )[0]\n",
    "    testloader = torch.utils.data.DataLoader(\n",
    "        test_subpart, batch_size=batch_size, shuffle=False, num_workers=num_workers\n",
    "    )\n",
    "\n",
    "    return trainloader, testloader\n",
    "\n",
    "data_config = {\n",
    "    \"num_samples\": 1000,\n",
    "    \"batch_size\": 32,\n",
    "    \"dataset_name\": torchvision.datasets.CIFAR10,\n",
    "    \"num_workers\": 4,\n",
    "}\n",
    "\n",
    "_, testloader = get_test_data(data_config)"
   ]
  },
  {
   "attachments": {},
   "cell_type": "markdown",
   "metadata": {},
   "source": [
    "### Defining the model\n",
    "\n",
    "Now, let's define our PyTorch model architecture."
   ]
  },
  {
   "cell_type": "code",
   "execution_count": 3,
   "metadata": {},
   "outputs": [],
   "source": [
    "class Net(nn.Module):\n",
    "    def __init__(self):\n",
    "        super().__init__()\n",
    "        self.conv1 = nn.Conv2d(3, 6, 5)\n",
    "        self.pool = nn.MaxPool2d(2, 2)\n",
    "        self.conv2 = nn.Conv2d(6, 16, 5)\n",
    "        self.fc1 = nn.Linear(16 * 5 * 5, 120)\n",
    "        self.fc2 = nn.Linear(120, 84)\n",
    "        self.fc3 = nn.Linear(84, 10)\n",
    "\n",
    "    def forward(self, x):\n",
    "        import torch\n",
    "\n",
    "        x = self.pool(torch.nn.functional.relu(self.conv1(x)))\n",
    "        x = self.pool(torch.nn.functional.relu(self.conv2(x)))\n",
    "        x = torch.flatten(x, 1)  # flatten all dimensions except batch\n",
    "        x = torch.nn.functional.relu(self.fc1(x))\n",
    "        x = torch.nn.functional.relu(self.fc2(x))\n",
    "        x = self.fc3(x)\n",
    "        return x\n",
    "\n",
    "net = Net()"
   ]
  },
  {
   "attachments": {},
   "cell_type": "markdown",
   "metadata": {},
   "source": [
    "### Instantiating Model Trainer and Client instances\n",
    "\n",
    "Next, we will initialize an instance of a PyTorch Model Trainer and Client. You can check out their implementation under ``flox/model_trainers`` and ``flox/clients``, respectively. You can also extend or modify these classes to fit your needs."
   ]
  },
  {
   "cell_type": "code",
   "execution_count": 4,
   "metadata": {},
   "outputs": [],
   "source": [
    "torch_trainer = PyTorchTrainer(net)\n",
    "torch_client = PyTorchClient()"
   ]
  },
  {
   "attachments": {},
   "cell_type": "markdown",
   "metadata": {},
   "source": [
    "### Instantiating the Controller (Local Execution)\n",
    "\n",
    "Let's also define our endpoints and initialize the PyTorch *Controller* that will do the heavy lifting of deploying tasks to the endpoints. We will run three rounds of FL, with 100 samples and 1 training epoch on each device. Note that we are specifying ``executor_type`` to \"local\", which will use ``concurrent.futures.ThreadPoolExecutor`` to execute the tasks locally. We are also providing the dataset name and the test data. Finally, we'll launch the experiment."
   ]
  },
  {
   "cell_type": "code",
   "execution_count": 5,
   "metadata": {},
   "outputs": [
    {
     "name": "stderr",
     "output_type": "stream",
     "text": [
      "1676800283.857043 2023-02-19 17:51:23 INFO MainProcess-24960 MainThread-23204 __main__:3 <module> Endpoints: ['simulated_endpoint_1', 'simulated_endpoint_2', 'simulated_endpoint_3']\n",
      "1676800283.858041 2023-02-19 17:51:23 INFO MainProcess-24960 MainThread-23204 __main__:18 <module> STARTING FL LOCAL TORCH FLOW...\n",
      "1676800283.859042 2023-02-19 17:51:23 DEBUG MainProcess-24960 MainThread-23204 flox.controllers.MainController:166 on_model_init No executor was provided, trying to retrieve the provided executor type local from the list of available executors: {'local': <class 'concurrent.futures.thread.ThreadPoolExecutor'>, 'funcx': <class 'funcx.sdk.executor.FuncXExecutor'>}\n",
      "1676800283.861044 2023-02-19 17:51:23 DEBUG MainProcess-24960 MainThread-23204 flox.controllers.MainController:170 on_model_init The selected executor is <class 'concurrent.futures.thread.ThreadPoolExecutor'>\n",
      "1676800285.333203 2023-02-19 17:51:25 DEBUG MainProcess-24960 MainThread-23204 flox.controllers.MainController:209 on_model_broadcast Launching the <class 'concurrent.futures.thread.ThreadPoolExecutor'> executor\n",
      "1676800285.334219 2023-02-19 17:51:25 INFO MainProcess-24960 MainThread-23204 flox.controllers.MainController:215 on_model_broadcast Starting to broadcast a task to endpoint simulated_endpoint_1\n",
      "1676800297.901652 2023-02-19 17:51:37 WARNING MainProcess-24960 MainThread-23204 flox.controllers.MainController:220 on_model_broadcast Could not check the status of the endpoint simulated_endpoint_1, the error is: ('GET', 'https://api2.funcx.org/v2/endpoints/simulated_endpoint_1/status', 'Bearer', 500, 'UNKNOWN_ERROR', 'An unknown or unhandled error occurred.')\n",
      "1676800297.906604 2023-02-19 17:51:37 INFO MainProcess-24960 MainThread-23204 flox.controllers.MainController:247 on_model_broadcast Deployed the task to endpoint simulated_endpoint_1\n"
     ]
    },
    {
     "name": "stdout",
     "output_type": "stream",
     "text": [
      "Files already downloaded and verified\n",
      "Files already downloaded and verified\n"
     ]
    },
    {
     "name": "stderr",
     "output_type": "stream",
     "text": [
      "1676800321.902282 2023-02-19 17:52:01 INFO MainProcess-24960 MainThread-23204 flox.controllers.MainController:290 on_model_receive Starting to retrieve results from endpoints\n",
      "1676800321.904283 2023-02-19 17:52:01 INFO MainProcess-24960 MainThread-23204 flox.controllers.MainController:305 on_model_receive Finished retrieving all results from the endpoints\n",
      "c:\\Users\\Nikita\\.conda\\envs\\tf210\\lib\\site-packages\\numpy\\lib\\function_base.py:377: VisibleDeprecationWarning: Creating an ndarray from ragged nested sequences (which is a list-or-tuple of lists-or-tuples-or ndarrays with different lengths or shapes) is deprecated. If you meant to do this, you must specify 'dtype=object' when creating the ndarray.\n",
      "  a = np.asanyarray(a)\n",
      "1676800321.937283 2023-02-19 17:52:01 INFO MainProcess-24960 MainThread-23204 flox.controllers.MainController:335 on_model_aggregate Finished aggregating weights\n",
      "1676800321.939285 2023-02-19 17:52:01 INFO MainProcess-24960 MainThread-23204 flox.controllers.MainController:398 run_federated_learning Round 0 evaluation results: \n",
      "1676800330.456416 2023-02-19 17:52:10 DEBUG MainProcess-24960 MainThread-23204 flox.controllers.MainController:209 on_model_broadcast Launching the <class 'concurrent.futures.thread.ThreadPoolExecutor'> executor\n",
      "1676800330.456416 2023-02-19 17:52:10 INFO MainProcess-24960 MainThread-23204 flox.controllers.MainController:215 on_model_broadcast Starting to broadcast a task to endpoint simulated_endpoint_1\n"
     ]
    },
    {
     "name": "stdout",
     "output_type": "stream",
     "text": [
      "{'loss': 73.78003287315369, 'metrics': {'accuracy': 0.082}}\n"
     ]
    },
    {
     "name": "stderr",
     "output_type": "stream",
     "text": [
      "1676800350.922121 2023-02-19 17:52:30 WARNING MainProcess-24960 MainThread-23204 flox.controllers.MainController:220 on_model_broadcast Could not check the status of the endpoint simulated_endpoint_1, the error is: ('GET', 'https://api2.funcx.org/v2/endpoints/simulated_endpoint_1/status', 'Bearer', 500, 'UNKNOWN_ERROR', 'An unknown or unhandled error occurred.')\n",
      "1676800350.927112 2023-02-19 17:52:30 INFO MainProcess-24960 MainThread-23204 flox.controllers.MainController:247 on_model_broadcast Deployed the task to endpoint simulated_endpoint_1\n"
     ]
    },
    {
     "name": "stdout",
     "output_type": "stream",
     "text": [
      "Files already downloaded and verified\n",
      "Files already downloaded and verified\n"
     ]
    },
    {
     "name": "stderr",
     "output_type": "stream",
     "text": [
      "1676800371.149551 2023-02-19 17:52:51 INFO MainProcess-24960 MainThread-23204 flox.controllers.MainController:290 on_model_receive Starting to retrieve results from endpoints\n",
      "1676800371.151550 2023-02-19 17:52:51 INFO MainProcess-24960 MainThread-23204 flox.controllers.MainController:305 on_model_receive Finished retrieving all results from the endpoints\n",
      "1676800371.152550 2023-02-19 17:52:51 INFO MainProcess-24960 MainThread-23204 flox.controllers.MainController:335 on_model_aggregate Finished aggregating weights\n",
      "1676800371.154548 2023-02-19 17:52:51 INFO MainProcess-24960 MainThread-23204 flox.controllers.MainController:398 run_federated_learning Round 1 evaluation results: \n",
      "1676800378.159143 2023-02-19 17:52:58 DEBUG MainProcess-24960 MainThread-23204 flox.controllers.MainController:209 on_model_broadcast Launching the <class 'concurrent.futures.thread.ThreadPoolExecutor'> executor\n",
      "1676800378.159143 2023-02-19 17:52:58 INFO MainProcess-24960 MainThread-23204 flox.controllers.MainController:215 on_model_broadcast Starting to broadcast a task to endpoint simulated_endpoint_1\n"
     ]
    },
    {
     "name": "stdout",
     "output_type": "stream",
     "text": [
      "{'loss': 73.77825355529785, 'metrics': {'accuracy': 0.082}}\n"
     ]
    },
    {
     "name": "stderr",
     "output_type": "stream",
     "text": [
      "1676800396.350113 2023-02-19 17:53:16 WARNING MainProcess-24960 MainThread-23204 flox.controllers.MainController:220 on_model_broadcast Could not check the status of the endpoint simulated_endpoint_1, the error is: ('GET', 'https://api2.funcx.org/v2/endpoints/simulated_endpoint_1/status', 'Bearer', 500, 'UNKNOWN_ERROR', 'An unknown or unhandled error occurred.')\n",
      "1676800396.352078 2023-02-19 17:53:16 INFO MainProcess-24960 MainThread-23204 flox.controllers.MainController:247 on_model_broadcast Deployed the task to endpoint simulated_endpoint_1\n"
     ]
    },
    {
     "name": "stdout",
     "output_type": "stream",
     "text": [
      "Files already downloaded and verified\n",
      "Files already downloaded and verified\n"
     ]
    },
    {
     "name": "stderr",
     "output_type": "stream",
     "text": [
      "1676800417.115994 2023-02-19 17:53:37 INFO MainProcess-24960 MainThread-23204 flox.controllers.MainController:290 on_model_receive Starting to retrieve results from endpoints\n",
      "1676800417.117954 2023-02-19 17:53:37 INFO MainProcess-24960 MainThread-23204 flox.controllers.MainController:305 on_model_receive Finished retrieving all results from the endpoints\n",
      "1676800417.118958 2023-02-19 17:53:37 INFO MainProcess-24960 MainThread-23204 flox.controllers.MainController:335 on_model_aggregate Finished aggregating weights\n",
      "1676800417.121957 2023-02-19 17:53:37 INFO MainProcess-24960 MainThread-23204 flox.controllers.MainController:398 run_federated_learning Round 2 evaluation results: \n"
     ]
    },
    {
     "name": "stdout",
     "output_type": "stream",
     "text": [
      "{'loss': 73.7755799293518, 'metrics': {'accuracy': 0.082}}\n"
     ]
    }
   ],
   "source": [
    "# since we are first executing the experiment locally, it does not matter what we name the endpoints:\n",
    "eps = [\"simulated_endpoint_1\", \"simulated_endpoint_2\", \"simulated_endpoint_3\"]\n",
    "logger.info(f\"Endpoints: {eps}\")\n",
    "\n",
    "flox_controller = PyTorchController(\n",
    "    endpoint_ids=eps,\n",
    "    num_samples=100,\n",
    "    epochs=1,\n",
    "    rounds=3,\n",
    "    client_logic=torch_client,\n",
    "    model_trainer=torch_trainer,\n",
    "    executor_type=\"local\",  # choose \"funcx\" for FuncXExecutor, \"local\" for ThreadPoolExecutor\n",
    "    testloader=testloader,\n",
    "    dataset_name=torchvision.datasets.CIFAR10,\n",
    ")\n",
    "\n",
    "# Finally, let's launch the experiment\n",
    "logger.info(\"STARTING FL LOCAL TORCH FLOW...\")\n",
    "flox_controller.run_federated_learning()"
   ]
  },
  {
   "attachments": {},
   "cell_type": "markdown",
   "metadata": {},
   "source": [
    "### Real Endpoint (FuncX) Execution \n",
    "\n",
    "Now, let's switch \"endpoint_type\" to \"funcx\" and provide actual endpoints. However, make sure to follow instructions in this directory's README to set up your clients. "
   ]
  },
  {
   "cell_type": "code",
   "execution_count": 6,
   "metadata": {},
   "outputs": [
    {
     "name": "stderr",
     "output_type": "stream",
     "text": [
      "1676800423.875944 2023-02-19 17:53:43 INFO MainProcess-24960 MainThread-23204 __main__:2 <module> Endpoints: ['fb93a1c2-a8d7-49f3-ad59-375f4e298784']\n",
      "1676800423.876940 2023-02-19 17:53:43 INFO MainProcess-24960 MainThread-23204 __main__:17 <module> STARTING FL FUNCX TORCH FLOW...\n",
      "1676800423.877940 2023-02-19 17:53:43 DEBUG MainProcess-24960 MainThread-23204 flox.controllers.MainController:166 on_model_init No executor was provided, trying to retrieve the provided executor type funcx from the list of available executors: {'local': <class 'concurrent.futures.thread.ThreadPoolExecutor'>, 'funcx': <class 'funcx.sdk.executor.FuncXExecutor'>}\n",
      "1676800423.878938 2023-02-19 17:53:43 DEBUG MainProcess-24960 MainThread-23204 flox.controllers.MainController:170 on_model_init The selected executor is <class 'funcx.sdk.executor.FuncXExecutor'>\n",
      "1676800425.342097 2023-02-19 17:53:45 DEBUG MainProcess-24960 MainThread-23204 flox.controllers.MainController:209 on_model_broadcast Launching the <class 'funcx.sdk.executor.FuncXExecutor'> executor\n",
      "1676800426.726280 2023-02-19 17:53:46 INFO MainProcess-24960 MainThread-23204 flox.controllers.MainController:215 on_model_broadcast Starting to broadcast a task to endpoint fb93a1c2-a8d7-49f3-ad59-375f4e298784\n",
      "1676800428.600437 2023-02-19 17:53:48 INFO MainProcess-24960 MainThread-23204 flox.controllers.MainController:247 on_model_broadcast Deployed the task to endpoint fb93a1c2-a8d7-49f3-ad59-375f4e298784\n",
      "1676800454.276270 2023-02-19 17:54:14 INFO MainProcess-24960 MainThread-23204 flox.controllers.MainController:290 on_model_receive Starting to retrieve results from endpoints\n",
      "1676800454.279250 2023-02-19 17:54:14 INFO MainProcess-24960 MainThread-23204 flox.controllers.MainController:305 on_model_receive Finished retrieving all results from the endpoints\n",
      "1676800454.284199 2023-02-19 17:54:14 INFO MainProcess-24960 MainThread-23204 flox.controllers.MainController:335 on_model_aggregate Finished aggregating weights\n",
      "1676800454.289196 2023-02-19 17:54:14 INFO MainProcess-24960 MainThread-23204 flox.controllers.MainController:398 run_federated_learning Round 0 evaluation results: \n",
      "1676800460.899697 2023-02-19 17:54:20 DEBUG MainProcess-24960 MainThread-23204 flox.controllers.MainController:209 on_model_broadcast Launching the <class 'funcx.sdk.executor.FuncXExecutor'> executor\n"
     ]
    },
    {
     "name": "stdout",
     "output_type": "stream",
     "text": [
      "{'loss': 73.77296876907349, 'metrics': {'accuracy': 0.082}}\n"
     ]
    },
    {
     "name": "stderr",
     "output_type": "stream",
     "text": [
      "1676800462.290899 2023-02-19 17:54:22 INFO MainProcess-24960 MainThread-23204 flox.controllers.MainController:215 on_model_broadcast Starting to broadcast a task to endpoint fb93a1c2-a8d7-49f3-ad59-375f4e298784\n",
      "1676800464.405772 2023-02-19 17:54:24 INFO MainProcess-24960 MainThread-23204 flox.controllers.MainController:247 on_model_broadcast Deployed the task to endpoint fb93a1c2-a8d7-49f3-ad59-375f4e298784\n",
      "1676800475.895391 2023-02-19 17:54:35 INFO MainProcess-24960 MainThread-23204 flox.controllers.MainController:290 on_model_receive Starting to retrieve results from endpoints\n",
      "1676800475.897361 2023-02-19 17:54:35 INFO MainProcess-24960 MainThread-23204 flox.controllers.MainController:305 on_model_receive Finished retrieving all results from the endpoints\n",
      "1676800475.901360 2023-02-19 17:54:35 INFO MainProcess-24960 MainThread-23204 flox.controllers.MainController:335 on_model_aggregate Finished aggregating weights\n",
      "1676800475.905354 2023-02-19 17:54:35 INFO MainProcess-24960 MainThread-23204 flox.controllers.MainController:398 run_federated_learning Round 1 evaluation results: \n",
      "1676800482.551755 2023-02-19 17:54:42 DEBUG MainProcess-24960 MainThread-23204 flox.controllers.MainController:209 on_model_broadcast Launching the <class 'funcx.sdk.executor.FuncXExecutor'> executor\n"
     ]
    },
    {
     "name": "stdout",
     "output_type": "stream",
     "text": [
      "{'loss': 73.76958775520325, 'metrics': {'accuracy': 0.082}}\n"
     ]
    },
    {
     "name": "stderr",
     "output_type": "stream",
     "text": [
      "1676800483.926109 2023-02-19 17:54:43 INFO MainProcess-24960 MainThread-23204 flox.controllers.MainController:215 on_model_broadcast Starting to broadcast a task to endpoint fb93a1c2-a8d7-49f3-ad59-375f4e298784\n",
      "1676800485.526042 2023-02-19 17:54:45 INFO MainProcess-24960 MainThread-23204 flox.controllers.MainController:247 on_model_broadcast Deployed the task to endpoint fb93a1c2-a8d7-49f3-ad59-375f4e298784\n",
      "1676800497.148367 2023-02-19 17:54:57 INFO MainProcess-24960 MainThread-23204 flox.controllers.MainController:290 on_model_receive Starting to retrieve results from endpoints\n",
      "1676800497.149407 2023-02-19 17:54:57 INFO MainProcess-24960 MainThread-23204 flox.controllers.MainController:305 on_model_receive Finished retrieving all results from the endpoints\n",
      "1676800497.150407 2023-02-19 17:54:57 INFO MainProcess-24960 MainThread-23204 flox.controllers.MainController:335 on_model_aggregate Finished aggregating weights\n",
      "1676800497.153367 2023-02-19 17:54:57 INFO MainProcess-24960 MainThread-23204 flox.controllers.MainController:398 run_federated_learning Round 2 evaluation results: \n"
     ]
    },
    {
     "name": "stdout",
     "output_type": "stream",
     "text": [
      "{'loss': 73.76791477203369, 'metrics': {'accuracy': 0.082}}\n"
     ]
    }
   ],
   "source": [
    "eps = [\"fb93a1c2-a8d7-49f3-ad59-375f4e298784\"]\n",
    "logger.info(f\"Endpoints: {eps}\")\n",
    "\n",
    "flox_controller = PyTorchController(\n",
    "    endpoint_ids=eps,\n",
    "    num_samples=100,\n",
    "    epochs=1,\n",
    "    rounds=3,\n",
    "    client_logic=torch_client,\n",
    "    model_trainer=torch_trainer,\n",
    "    executor_type=\"funcx\",  # choose \"funcx\" for FuncXExecutor, \"local\" for ThreadPoolExecutor\n",
    "    testloader=testloader,\n",
    "    dataset_name=torchvision.datasets.CIFAR10,\n",
    ")\n",
    "\n",
    "# Finally, let's launch the experiment\n",
    "logger.info(\"STARTING FL FUNCX TORCH FLOW...\")\n",
    "flox_controller.run_federated_learning()"
   ]
  },
  {
   "attachments": {},
   "cell_type": "markdown",
   "metadata": {},
   "source": [
    "### Real Endpoint (FuncX) Execution with Running Average\n",
    "\n",
    "When we have lots and lots of endpoints, aggregating all of their updated model weights at the same time might be computationally heavy and time consuming. Thus, we can utilize the time by aggregating the models as they come back from the endpoints. In this example, we change the ``running_average`` variable to ``True`` in flox_controller and run the same experiment again."
   ]
  },
  {
   "cell_type": "code",
   "execution_count": 8,
   "metadata": {},
   "outputs": [
    {
     "name": "stderr",
     "output_type": "stream",
     "text": [
      "1676800614.600824 2023-02-19 17:56:54 INFO MainProcess-24960 MainThread-23204 __main__:2 <module> Endpoints: ['fb93a1c2-a8d7-49f3-ad59-375f4e298784']\n",
      "1676800614.602821 2023-02-19 17:56:54 INFO MainProcess-24960 MainThread-23204 __main__:18 <module> STARTING FL FUNCX TORCH FLOW...\n",
      "1676800614.603822 2023-02-19 17:56:54 DEBUG MainProcess-24960 MainThread-23204 flox.controllers.MainController:166 on_model_init No executor was provided, trying to retrieve the provided executor type funcx from the list of available executors: {'local': <class 'concurrent.futures.thread.ThreadPoolExecutor'>, 'funcx': <class 'funcx.sdk.executor.FuncXExecutor'>}\n",
      "1676800614.604822 2023-02-19 17:56:54 DEBUG MainProcess-24960 MainThread-23204 flox.controllers.MainController:170 on_model_init The selected executor is <class 'funcx.sdk.executor.FuncXExecutor'>\n",
      "1676800616.099678 2023-02-19 17:56:56 DEBUG MainProcess-24960 MainThread-23204 flox.controllers.MainController:209 on_model_broadcast Launching the <class 'funcx.sdk.executor.FuncXExecutor'> executor\n",
      "1676800617.472054 2023-02-19 17:56:57 INFO MainProcess-24960 MainThread-23204 flox.controllers.MainController:215 on_model_broadcast Starting to broadcast a task to endpoint fb93a1c2-a8d7-49f3-ad59-375f4e298784\n",
      "1676800619.420752 2023-02-19 17:56:59 INFO MainProcess-24960 MainThread-23204 flox.controllers.MainController:247 on_model_broadcast Deployed the task to endpoint fb93a1c2-a8d7-49f3-ad59-375f4e298784\n",
      "1676800650.119457 2023-02-19 17:57:30 INFO MainProcess-24960 MainThread-23204 flox.controllers.MainController:437 tasks_to_running_average Starting to retrieve results from endpoints\n",
      "1676800650.122463 2023-02-19 17:57:30 DEBUG MainProcess-24960 MainThread-23204 flox.controllers.MainController:449 tasks_to_running_average the running average is NONE, instantiating it for the first time\n",
      "1676800650.125419 2023-02-19 17:57:30 INFO MainProcess-24960 MainThread-23204 flox.controllers.MainController:475 tasks_to_running_average Finished retrieving all results from the endpoints\n",
      "1676800650.133404 2023-02-19 17:57:30 INFO MainProcess-24960 MainThread-23204 flox.controllers.MainController:398 run_federated_learning Round 0 evaluation results: \n",
      "1676800656.862907 2023-02-19 17:57:36 DEBUG MainProcess-24960 MainThread-23204 flox.controllers.MainController:209 on_model_broadcast Launching the <class 'funcx.sdk.executor.FuncXExecutor'> executor\n"
     ]
    },
    {
     "name": "stdout",
     "output_type": "stream",
     "text": [
      "{'loss': 73.70644783973694, 'metrics': {'accuracy': 0.074}}\n"
     ]
    },
    {
     "name": "stderr",
     "output_type": "stream",
     "text": [
      "1676800658.246667 2023-02-19 17:57:38 INFO MainProcess-24960 MainThread-23204 flox.controllers.MainController:215 on_model_broadcast Starting to broadcast a task to endpoint fb93a1c2-a8d7-49f3-ad59-375f4e298784\n",
      "1676800660.193863 2023-02-19 17:57:40 INFO MainProcess-24960 MainThread-23204 flox.controllers.MainController:247 on_model_broadcast Deployed the task to endpoint fb93a1c2-a8d7-49f3-ad59-375f4e298784\n",
      "1676800691.254356 2023-02-19 17:58:11 INFO MainProcess-24960 MainThread-23204 flox.controllers.MainController:437 tasks_to_running_average Starting to retrieve results from endpoints\n",
      "1676800691.257351 2023-02-19 17:58:11 DEBUG MainProcess-24960 MainThread-23204 flox.controllers.MainController:449 tasks_to_running_average the running average is NONE, instantiating it for the first time\n",
      "1676800691.260353 2023-02-19 17:58:11 INFO MainProcess-24960 MainThread-23204 flox.controllers.MainController:475 tasks_to_running_average Finished retrieving all results from the endpoints\n",
      "1676800691.266349 2023-02-19 17:58:11 INFO MainProcess-24960 MainThread-23204 flox.controllers.MainController:398 run_federated_learning Round 1 evaluation results: \n",
      "1676800698.074385 2023-02-19 17:58:18 DEBUG MainProcess-24960 MainThread-23204 flox.controllers.MainController:209 on_model_broadcast Launching the <class 'funcx.sdk.executor.FuncXExecutor'> executor\n"
     ]
    },
    {
     "name": "stdout",
     "output_type": "stream",
     "text": [
      "{'loss': 73.67541027069092, 'metrics': {'accuracy': 0.12}}\n"
     ]
    },
    {
     "name": "stderr",
     "output_type": "stream",
     "text": [
      "1676800699.527335 2023-02-19 17:58:19 INFO MainProcess-24960 MainThread-23204 flox.controllers.MainController:215 on_model_broadcast Starting to broadcast a task to endpoint fb93a1c2-a8d7-49f3-ad59-375f4e298784\n",
      "1676800701.460689 2023-02-19 17:58:21 INFO MainProcess-24960 MainThread-23204 flox.controllers.MainController:247 on_model_broadcast Deployed the task to endpoint fb93a1c2-a8d7-49f3-ad59-375f4e298784\n",
      "1676800731.164322 2023-02-19 17:58:51 INFO MainProcess-24960 MainThread-23204 flox.controllers.MainController:437 tasks_to_running_average Starting to retrieve results from endpoints\n",
      "1676800731.165288 2023-02-19 17:58:51 DEBUG MainProcess-24960 MainThread-23204 flox.controllers.MainController:449 tasks_to_running_average the running average is NONE, instantiating it for the first time\n",
      "1676800731.166315 2023-02-19 17:58:51 INFO MainProcess-24960 MainThread-23204 flox.controllers.MainController:475 tasks_to_running_average Finished retrieving all results from the endpoints\n",
      "1676800731.170290 2023-02-19 17:58:51 INFO MainProcess-24960 MainThread-23204 flox.controllers.MainController:398 run_federated_learning Round 2 evaluation results: \n"
     ]
    },
    {
     "name": "stdout",
     "output_type": "stream",
     "text": [
      "{'loss': 73.62477946281433, 'metrics': {'accuracy': 0.103}}\n"
     ]
    }
   ],
   "source": [
    "eps = [\"fb93a1c2-a8d7-49f3-ad59-375f4e298784\"]\n",
    "logger.info(f\"Endpoints: {eps}\")\n",
    "\n",
    "flox_controller = PyTorchController(\n",
    "    endpoint_ids=eps,\n",
    "    num_samples=100,\n",
    "    epochs=1,\n",
    "    rounds=3,\n",
    "    client_logic=torch_client,\n",
    "    model_trainer=torch_trainer,\n",
    "    executor_type=\"funcx\",  # choose \"funcx\" for FuncXExecutor, \"local\" for ThreadPoolExecutor\n",
    "    testloader=testloader,\n",
    "    dataset_name=torchvision.datasets.CIFAR10,\n",
    "    running_average=True,\n",
    ")\n",
    "\n",
    "# Finally, let's launch the experiment\n",
    "logger.info(\"STARTING FL FUNCX TORCH FLOW...\")\n",
    "flox_controller.run_federated_learning()"
   ]
  }
 ],
 "metadata": {
  "kernelspec": {
   "display_name": "tf210",
   "language": "python",
   "name": "python3"
  },
  "language_info": {
   "codemirror_mode": {
    "name": "ipython",
    "version": 3
   },
   "file_extension": ".py",
   "mimetype": "text/x-python",
   "name": "python",
   "nbconvert_exporter": "python",
   "pygments_lexer": "ipython3",
   "version": "3.7.12"
  },
  "orig_nbformat": 4,
  "vscode": {
   "interpreter": {
    "hash": "0b21036698e5632bbf700b22d6dc1c2a972423c4770bbc7b9bb6d144148d12b0"
   }
  }
 },
 "nbformat": 4,
 "nbformat_minor": 2
}
