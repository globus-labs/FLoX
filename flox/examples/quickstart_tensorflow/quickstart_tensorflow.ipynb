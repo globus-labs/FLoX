{
 "cells": [
  {
   "attachments": {},
   "cell_type": "markdown",
   "metadata": {},
   "source": [
    "# Quickstart Tensorflow Tutorial\n",
    "In this tutorial, you will see how to use flox to run FL experiments on Tensorflow using first a local executor and then using real physical endpoints. We will train our model to classify instances from the Fashion MNIST dataset."
   ]
  },
  {
   "cell_type": "code",
   "execution_count": 2,
   "metadata": {},
   "outputs": [],
   "source": [
    "import logging\n",
    "import os\n",
    "\n",
    "import tensorflow as tf\n",
    "from funcx import FuncXExecutor\n",
    "from tensorflow import keras\n",
    "\n",
    "from flox.clients.TensorflowClient import TensorflowClient\n",
    "from flox.controllers.TensorflowController import TensorflowController\n",
    "from flox.model_trainers.TensorflowTrainer import TensorflowTrainer\n",
    "\n",
    "logger = logging.getLogger(__name__)"
   ]
  },
  {
   "attachments": {},
   "cell_type": "markdown",
   "metadata": {},
   "source": [
    "### Getting Test Data\n",
    "First, let's get some test data by using the ``get_test_data`` function from flox/utils."
   ]
  },
  {
   "cell_type": "code",
   "execution_count": 3,
   "metadata": {},
   "outputs": [],
   "source": [
    "from flox.utils import get_test_data\n",
    "x_test, y_test = get_test_data(keras_dataset=\"fashion_mnist\", num_samples=2000)"
   ]
  },
  {
   "attachments": {},
   "cell_type": "markdown",
   "metadata": {},
   "source": [
    "### Defining the Model\n",
    "\n",
    "Next, let's define our Tensorflow model architecture and compile it."
   ]
  },
  {
   "cell_type": "code",
   "execution_count": 4,
   "metadata": {},
   "outputs": [],
   "source": [
    "# `fashion_mnist` images are grayscale, 28 x 28 pixels in size\n",
    "input_shape = (28, 28, 1)\n",
    "# there are 10 classes in the dataset\n",
    "num_classes = 10\n",
    "\n",
    "# define the model architecture\n",
    "global_model = tf.keras.Sequential(\n",
    "    [\n",
    "        tf.keras.Input(shape=input_shape),\n",
    "        tf.keras.layers.Conv2D(32, kernel_size=(3, 3), activation=\"relu\"),\n",
    "        tf.keras.layers.MaxPooling2D(pool_size=(2, 2)),\n",
    "        tf.keras.layers.Conv2D(64, kernel_size=(3, 3), activation=\"relu\"),\n",
    "        tf.keras.layers.MaxPooling2D(pool_size=(2, 2)),\n",
    "        tf.keras.layers.Flatten(),\n",
    "        tf.keras.layers.Dropout(0.5),\n",
    "        tf.keras.layers.Dense(num_classes, activation=\"softmax\"),\n",
    "    ]\n",
    ")\n",
    "\n",
    "# compile the model\n",
    "global_model.compile(\n",
    "    loss=\"categorical_crossentropy\", optimizer=\"adam\", metrics=[\"accuracy\"]\n",
    ")"
   ]
  },
  {
   "attachments": {},
   "cell_type": "markdown",
   "metadata": {},
   "source": [
    "### Instantiating Model Trainer and Client instances\n",
    "\n",
    "Next, we will initialize an instance of a Tensorflow Model Trainer and Client. You can check out their implementation under ``flox/model_trainers`` and ``flox/clients``, respectively. You can also extend or modify these classes to fit your needs."
   ]
  },
  {
   "cell_type": "code",
   "execution_count": 5,
   "metadata": {},
   "outputs": [],
   "source": [
    "tf_trainer = TensorflowTrainer()\n",
    "tf_client = TensorflowClient()"
   ]
  },
  {
   "attachments": {},
   "cell_type": "markdown",
   "metadata": {},
   "source": [
    "### Instantiating the Controller (Local Execution)\n",
    "\n",
    "Now, let's define our endpoints and initialize the PyTorch *Controller* that will do the heavy lifting of deploying tasks to the endpoints. We will run three rounds of FL, with 100 samples and 1 training epoch on each device. Note that we are specifying ``executor_type`` to \"local\", which will use ``concurrent.futures.ThreadPoolExecutor`` to execute the tasks locally. We are also providing the dataset name and the test data. Finally, we'll launch the experiment."
   ]
  },
  {
   "cell_type": "code",
   "execution_count": 6,
   "metadata": {},
   "outputs": [
    {
     "name": "stderr",
     "output_type": "stream",
     "text": [
      "1676525788.598553 2023-02-16 13:36:28 INFO MainProcess-17968 MainThread-25440 __main__:3 <module> Endpoints: ['simulated_endpoint_1', 'simulated_endpoint_2', 'simulated_endpoint_3']\n",
      "1676525788.601554 2023-02-16 13:36:28 INFO MainProcess-17968 MainThread-25440 __main__:20 <module> STARTING FL FLOW...\n",
      "1676525788.602553 2023-02-16 13:36:28 DEBUG MainProcess-17968 MainThread-25440 flox.controllers.MainController:166 on_model_init No executor was provided, trying to retrieve the provided executor type local from the list of available executors: {'local': <class 'concurrent.futures.thread.ThreadPoolExecutor'>, 'funcx': <class 'funcx.sdk.executor.FuncXExecutor'>}\n",
      "1676525788.604568 2023-02-16 13:36:28 DEBUG MainProcess-17968 MainThread-25440 flox.controllers.MainController:170 on_model_init The selected executor is <class 'concurrent.futures.thread.ThreadPoolExecutor'>\n",
      "1676525790.258576 2023-02-16 13:36:30 DEBUG MainProcess-17968 MainThread-25440 flox.controllers.MainController:209 on_model_broadcast Launching the <class 'concurrent.futures.thread.ThreadPoolExecutor'> executor\n",
      "1676525790.260522 2023-02-16 13:36:30 INFO MainProcess-17968 MainThread-25440 flox.controllers.MainController:215 on_model_broadcast Starting to broadcast a task to endpoint simulated_endpoint_1\n",
      "1676525804.672052 2023-02-16 13:36:44 WARNING MainProcess-17968 MainThread-25440 flox.controllers.MainController:220 on_model_broadcast Could not check the status of the endpoint simulated_endpoint_1, the error is: ('GET', 'https://api2.funcx.org/v2/endpoints/simulated_endpoint_1/status', 'Bearer', 500, 'UNKNOWN_ERROR', 'An unknown or unhandled error occurred.')\n",
      "1676525804.676083 2023-02-16 13:36:44 INFO MainProcess-17968 MainThread-25440 flox.controllers.MainController:247 on_model_broadcast Deployed the task to endpoint simulated_endpoint_1\n"
     ]
    },
    {
     "name": "stdout",
     "output_type": "stream",
     "text": [
      "Train on 100 samples\n",
      "100/100 [==============================] - 0s 4ms/sample - loss: 2.2848 - accuracy: 0.1500\n"
     ]
    },
    {
     "name": "stderr",
     "output_type": "stream",
     "text": [
      "1676525805.639392 2023-02-16 13:36:45 INFO MainProcess-17968 MainThread-25440 flox.controllers.MainController:290 on_model_receive Starting to retrieve results from endpoints\n",
      "1676525805.640367 2023-02-16 13:36:45 INFO MainProcess-17968 MainThread-25440 flox.controllers.MainController:305 on_model_receive Finished retrieving all results from the endpoints\n",
      "1676525805.641366 2023-02-16 13:36:45 INFO MainProcess-17968 MainThread-25440 flox.controllers.MainController:335 on_model_aggregate Finished aggregating weights\n",
      "1676525805.643367 2023-02-16 13:36:45 INFO MainProcess-17968 MainThread-25440 flox.controllers.MainController:398 run_federated_learning Round 0 evaluation results: \n",
      "1676525806.000365 2023-02-16 13:36:46 DEBUG MainProcess-17968 MainThread-25440 flox.controllers.MainController:209 on_model_broadcast Launching the <class 'concurrent.futures.thread.ThreadPoolExecutor'> executor\n",
      "1676525806.001364 2023-02-16 13:36:46 INFO MainProcess-17968 MainThread-25440 flox.controllers.MainController:215 on_model_broadcast Starting to broadcast a task to endpoint simulated_endpoint_1\n"
     ]
    },
    {
     "name": "stdout",
     "output_type": "stream",
     "text": [
      "{'loss': 2.24061008644104, 'metrics': {'accuracy': 0.16899999976158142}}\n"
     ]
    },
    {
     "name": "stderr",
     "output_type": "stream",
     "text": [
      "1676525820.071469 2023-02-16 13:37:00 WARNING MainProcess-17968 MainThread-25440 flox.controllers.MainController:220 on_model_broadcast Could not check the status of the endpoint simulated_endpoint_1, the error is: ('GET', 'https://api2.funcx.org/v2/endpoints/simulated_endpoint_1/status', 'Bearer', 500, 'UNKNOWN_ERROR', 'An unknown or unhandled error occurred.')\n",
      "1676525820.074437 2023-02-16 13:37:00 INFO MainProcess-17968 MainThread-25440 flox.controllers.MainController:247 on_model_broadcast Deployed the task to endpoint simulated_endpoint_1\n"
     ]
    },
    {
     "name": "stdout",
     "output_type": "stream",
     "text": [
      "Train on 100 samples\n",
      "100/100 [==============================] - 0s 4ms/sample - loss: 2.2260 - accuracy: 0.1400\n"
     ]
    },
    {
     "name": "stderr",
     "output_type": "stream",
     "text": [
      "1676525820.976432 2023-02-16 13:37:00 INFO MainProcess-17968 MainThread-25440 flox.controllers.MainController:290 on_model_receive Starting to retrieve results from endpoints\n",
      "1676525820.978425 2023-02-16 13:37:00 INFO MainProcess-17968 MainThread-25440 flox.controllers.MainController:305 on_model_receive Finished retrieving all results from the endpoints\n",
      "1676525820.980426 2023-02-16 13:37:00 INFO MainProcess-17968 MainThread-25440 flox.controllers.MainController:335 on_model_aggregate Finished aggregating weights\n",
      "1676525820.983428 2023-02-16 13:37:00 INFO MainProcess-17968 MainThread-25440 flox.controllers.MainController:398 run_federated_learning Round 1 evaluation results: \n",
      "1676525821.285425 2023-02-16 13:37:01 DEBUG MainProcess-17968 MainThread-25440 flox.controllers.MainController:209 on_model_broadcast Launching the <class 'concurrent.futures.thread.ThreadPoolExecutor'> executor\n",
      "1676525821.286425 2023-02-16 13:37:01 INFO MainProcess-17968 MainThread-25440 flox.controllers.MainController:215 on_model_broadcast Starting to broadcast a task to endpoint simulated_endpoint_1\n"
     ]
    },
    {
     "name": "stdout",
     "output_type": "stream",
     "text": [
      "{'loss': 2.1857838592529295, 'metrics': {'accuracy': 0.2224999964237213}}\n"
     ]
    },
    {
     "name": "stderr",
     "output_type": "stream",
     "text": [
      "1676525841.766366 2023-02-16 13:37:21 WARNING MainProcess-17968 MainThread-25440 flox.controllers.MainController:220 on_model_broadcast Could not check the status of the endpoint simulated_endpoint_1, the error is: ('GET', 'https://api2.funcx.org/v2/endpoints/simulated_endpoint_1/status', 'Bearer', 500, 'UNKNOWN_ERROR', 'An unknown or unhandled error occurred.')\n",
      "1676525841.770951 2023-02-16 13:37:21 INFO MainProcess-17968 MainThread-25440 flox.controllers.MainController:247 on_model_broadcast Deployed the task to endpoint simulated_endpoint_1\n"
     ]
    },
    {
     "name": "stdout",
     "output_type": "stream",
     "text": [
      "Train on 100 samples\n",
      "100/100 [==============================] - 0s 3ms/sample - loss: 2.1535 - accuracy: 0.2500\n"
     ]
    },
    {
     "name": "stderr",
     "output_type": "stream",
     "text": [
      "1676525842.654240 2023-02-16 13:37:22 INFO MainProcess-17968 MainThread-25440 flox.controllers.MainController:290 on_model_receive Starting to retrieve results from endpoints\n",
      "1676525842.655225 2023-02-16 13:37:22 INFO MainProcess-17968 MainThread-25440 flox.controllers.MainController:305 on_model_receive Finished retrieving all results from the endpoints\n",
      "1676525842.658227 2023-02-16 13:37:22 INFO MainProcess-17968 MainThread-25440 flox.controllers.MainController:335 on_model_aggregate Finished aggregating weights\n",
      "1676525842.660224 2023-02-16 13:37:22 INFO MainProcess-17968 MainThread-25440 flox.controllers.MainController:398 run_federated_learning Round 2 evaluation results: \n"
     ]
    },
    {
     "name": "stdout",
     "output_type": "stream",
     "text": [
      "{'loss': 2.107709077835083, 'metrics': {'accuracy': 0.27549999952316284}}\n"
     ]
    }
   ],
   "source": [
    "# since we are first executing the experiment locally, it does not matter what we name the endpoints:\n",
    "eps = [\"simulated_endpoint_1\", \"simulated_endpoint_2\", \"simulated_endpoint_3\"]\n",
    "logger.info(f\"Endpoints: {eps}\")\n",
    "\n",
    "flox_controller = TensorflowController(\n",
    "    endpoint_ids=eps,\n",
    "    num_samples=100,\n",
    "    epochs=1,\n",
    "    rounds=3,\n",
    "    client_logic=tf_client,\n",
    "    global_model=global_model,\n",
    "    executor_type=\"local\",  # choose \"funcx\" for FuncXExecutor, \"local\" for ThreadPoolExecutor\n",
    "    model_trainer=tf_trainer,\n",
    "    x_test=x_test,\n",
    "    y_test=y_test,\n",
    "    data_source=\"keras\",\n",
    "    dataset_name=\"fashion_mnist\",\n",
    ")\n",
    "\n",
    "logger.info(\"STARTING FL FLOW...\")\n",
    "flox_controller.run_federated_learning()"
   ]
  },
  {
   "attachments": {},
   "cell_type": "markdown",
   "metadata": {},
   "source": [
    "### Real Endpoint (FuncX) Execution \n",
    "\n",
    "Now, let's switch \"endpoint_type\" to \"funcx\" and provide UUID of actual funcX endpoints. Make sure to follow instructions in this directory's README to set up your clients. "
   ]
  },
  {
   "cell_type": "code",
   "execution_count": null,
   "metadata": {},
   "outputs": [],
   "source": [
    "eps = [\"fb93a1c2-a8d7-49f3-ad59-375f4e298784\", \"c7487b2b-b129-47e2-989b-5a9ac361befc\"]\n",
    "logger.info(f\"Endpoints: {eps}\")\n",
    "\n",
    "flox_controller = TensorflowController(\n",
    "    endpoint_ids=eps,\n",
    "    num_samples=100,\n",
    "    epochs=1,\n",
    "    rounds=3,\n",
    "    client_logic=tf_client,\n",
    "    global_model=global_model,\n",
    "    executor_type=\"funcx\",  # choose \"funcx\" for FuncXExecutor, \"local\" for ThreadPoolExecutor\n",
    "    model_trainer=tf_trainer,\n",
    "    x_test=x_test,\n",
    "    y_test=y_test,\n",
    "    data_source=\"keras\",\n",
    "    dataset_name=\"fashion_mnist\",\n",
    ")\n",
    "\n",
    "logger.info(\"STARTING FL FLOW...\")\n",
    "flox_controller.run_federated_learning()"
   ]
  },
  {
   "attachments": {},
   "cell_type": "markdown",
   "metadata": {},
   "source": [
    "### Real Endpoint (FuncX) Execution with Running Average\n",
    "\n",
    "When we have lots and lots of endpoints, aggregating all of their updated model weights at the same time might be computationally heavy and time consuming. Thus, we can utilize the time by aggregating the models as they come back from the endpoints. In this example, we change the ``running_average`` variable to ``True`` in flox_controller and run the same experiment again."
   ]
  },
  {
   "cell_type": "code",
   "execution_count": null,
   "metadata": {},
   "outputs": [],
   "source": [
    "flox_controller = TensorflowController(\n",
    "    endpoint_ids=eps,\n",
    "    num_samples=100,\n",
    "    epochs=1,\n",
    "    rounds=3,\n",
    "    client_logic=tf_client,\n",
    "    global_model=global_model,\n",
    "    executor_type=\"local\",  # choose \"funcx\" for FuncXExecutor, \"local\" for ThreadPoolExecutor\n",
    "    model_trainer=tf_trainer,\n",
    "    x_test=x_test,\n",
    "    y_test=y_test,\n",
    "    data_source=\"keras\",\n",
    "    dataset_name=\"fashion_mnist\",\n",
    "    running_average=True,\n",
    ")\n",
    "\n",
    "logger.info(\"STARTING FL FLOW...\")\n",
    "flox_controller.run_federated_learning()"
   ]
  }
 ],
 "metadata": {
  "kernelspec": {
   "display_name": "tf210",
   "language": "python",
   "name": "python3"
  },
  "language_info": {
   "codemirror_mode": {
    "name": "ipython",
    "version": 3
   },
   "file_extension": ".py",
   "mimetype": "text/x-python",
   "name": "python",
   "nbconvert_exporter": "python",
   "pygments_lexer": "ipython3",
   "version": "3.7.12"
  },
  "orig_nbformat": 4,
  "vscode": {
   "interpreter": {
    "hash": "0b21036698e5632bbf700b22d6dc1c2a972423c4770bbc7b9bb6d144148d12b0"
   }
  }
 },
 "nbformat": 4,
 "nbformat_minor": 2
}
