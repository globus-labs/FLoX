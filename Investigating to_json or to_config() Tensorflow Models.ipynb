{
 "cells": [
  {
   "cell_type": "code",
   "execution_count": 8,
   "id": "92a3f395",
   "metadata": {},
   "outputs": [],
   "source": [
    "from tensorflow import keras\n",
    "from tensorflow.keras import layers\n",
    "import numpy as np\n",
    "\n",
    "from funcx.sdk.client import FuncXClient\n",
    "from funcx.sdk.executor import FuncXExecutor"
   ]
  },
  {
   "cell_type": "code",
   "execution_count": 3,
   "id": "cc002d8f",
   "metadata": {},
   "outputs": [],
   "source": [
    "batch_size = 128\n",
    "epochs = 5\n",
    "input_shape = (28, 28, 1)\n",
    "num_classes = 10\n",
    "\n",
    "global_model = keras.Sequential(\n",
    "    [\n",
    "        keras.Input(shape=input_shape),\n",
    "        layers.Conv2D(32, kernel_size=(3, 3), activation=\"relu\"),\n",
    "        layers.MaxPooling2D(pool_size=(2, 2)),\n",
    "        layers.Conv2D(64, kernel_size=(3, 3), activation=\"relu\"),\n",
    "        layers.MaxPooling2D(pool_size=(2, 2)),\n",
    "        layers.Flatten(),\n",
    "        layers.Dropout(0.5),\n",
    "        layers.Dense(num_classes, activation=\"softmax\"),\n",
    "    ]\n",
    "    )\n",
    "\n",
    "global_model.compile(loss=\"categorical_crossentropy\", optimizer=\"adam\", metrics=[\"accuracy\"])\n",
    "\n",
    "json_config = global_model.to_json()"
   ]
  },
  {
   "cell_type": "code",
   "execution_count": 5,
   "id": "49dae775",
   "metadata": {
    "scrolled": true
   },
   "outputs": [
    {
     "data": {
      "text/plain": [
       "dict"
      ]
     },
     "execution_count": 5,
     "metadata": {},
     "output_type": "execute_result"
    }
   ],
   "source": [
    "type(global_model.get_config())"
   ]
  },
  {
   "cell_type": "code",
   "execution_count": 6,
   "id": "9deab200",
   "metadata": {
    "scrolled": false
   },
   "outputs": [
    {
     "data": {
      "text/plain": [
       "str"
      ]
     },
     "execution_count": 6,
     "metadata": {},
     "output_type": "execute_result"
    }
   ],
   "source": [
    "type(json_config)"
   ]
  },
  {
   "cell_type": "code",
   "execution_count": 28,
   "id": "815e9111",
   "metadata": {},
   "outputs": [],
   "source": [
    "def send_json_model(model_config):\n",
    "    from tensorflow import keras\n",
    "    import numpy as np\n",
    "\n",
    "    # create the model\n",
    "    model = keras.models.model_from_json(model_config)\n",
    "    \n",
    "    return 'thanks!'"
   ]
  },
  {
   "cell_type": "code",
   "execution_count": 32,
   "id": "a0cb8e5d",
   "metadata": {},
   "outputs": [],
   "source": [
    "reg_config = global_model.get_config()\n",
    "def send_config_model(model_config):\n",
    "    from tensorflow import keras\n",
    "    import numpy as np\n",
    "\n",
    "    # create the model\n",
    "    model = keras.models.model_from_config(model_config)\n",
    "    \n",
    "    return 'thanks!'"
   ]
  },
  {
   "cell_type": "code",
   "execution_count": 33,
   "id": "4080a54e",
   "metadata": {},
   "outputs": [
    {
     "name": "stderr",
     "output_type": "stream",
     "text": [
      "[NON-CRITICAL] Off_process_checker instantiation failed. Continuing...\n",
      "Traceback (most recent call last):\n",
      "  File \"C:\\ProgramData\\Anaconda3\\lib\\site-packages\\funcx\\serialize\\facade.py\", line 32, in __init__\n",
      "    port = self._start_off_process_checker()\n",
      "  File \"C:\\ProgramData\\Anaconda3\\lib\\site-packages\\funcx\\serialize\\facade.py\", line 60, in _start_off_process_checker\n",
      "    [\"off_process_checker.py\"], stdout=std_out, stderr=subprocess.STDOUT\n",
      "  File \"C:\\ProgramData\\Anaconda3\\lib\\subprocess.py\", line 800, in __init__\n",
      "    restore_signals, start_new_session)\n",
      "  File \"C:\\ProgramData\\Anaconda3\\lib\\subprocess.py\", line 1207, in _execute_child\n",
      "    startupinfo)\n",
      "OSError: [WinError 193] %1 is not a valid Win32 application\n"
     ]
    }
   ],
   "source": [
    "endpoint_ids = ['6d2cc03e-565d-494b-9bdf-0ba0acdc606f', '11983ca1-2d45-40d1-b5a2-8736b3544dea']\n",
    "\n",
    "fx = FuncXExecutor(FuncXClient())\n",
    "tasks = []\n",
    "for e in endpoint_ids:\n",
    "    tasks.append(fx.submit(send_config_model, \n",
    "                            model_config=reg_config,\n",
    "                            endpoint_id=e))"
   ]
  },
  {
   "cell_type": "code",
   "execution_count": 36,
   "id": "d95a7ebb",
   "metadata": {},
   "outputs": [
    {
     "data": {
      "text/plain": [
       "[<Future at 0x23daed5d8c8 state=pending>,\n",
       " <Future at 0x23daed4fac8 state=pending>]"
      ]
     },
     "execution_count": 36,
     "metadata": {},
     "output_type": "execute_result"
    }
   ],
   "source": [
    "tasks"
   ]
  },
  {
   "cell_type": "code",
   "execution_count": null,
   "id": "0ce48cd2",
   "metadata": {},
   "outputs": [],
   "source": []
  }
 ],
 "metadata": {
  "kernelspec": {
   "display_name": "Python 3 (ipykernel)",
   "language": "python",
   "name": "python3"
  },
  "language_info": {
   "codemirror_mode": {
    "name": "ipython",
    "version": 3
   },
   "file_extension": ".py",
   "mimetype": "text/x-python",
   "name": "python",
   "nbconvert_exporter": "python",
   "pygments_lexer": "ipython3",
   "version": "3.7.10"
  }
 },
 "nbformat": 4,
 "nbformat_minor": 5
}
