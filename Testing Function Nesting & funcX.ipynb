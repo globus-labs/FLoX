{
 "cells": [
  {
   "cell_type": "code",
   "execution_count": 1,
   "id": "6eac573f",
   "metadata": {},
   "outputs": [],
   "source": [
    "def print_hello():\n",
    "    return \"hello\"\n",
    "\n",
    "def print_world():\n",
    "    return \"world\""
   ]
  },
  {
   "cell_type": "code",
   "execution_count": 9,
   "id": "80bba5fe",
   "metadata": {},
   "outputs": [],
   "source": [
    "def print_kek():\n",
    "    return \"kek\""
   ]
  },
  {
   "cell_type": "code",
   "execution_count": 3,
   "id": "2d309cd0",
   "metadata": {},
   "outputs": [],
   "source": [
    "def create_function(print_hello=print_hello, print_world=print_world):\n",
    "    \n",
    "    def print_hello_world(name):\n",
    "        word1 = print_hello()\n",
    "        word2 = print_world()\n",
    "        result = f\"{name}, {word1} {word2}!\"\n",
    "        \n",
    "        print(result)\n",
    "        \n",
    "        return result\n",
    "    \n",
    "    return print_hello_world"
   ]
  },
  {
   "cell_type": "code",
   "execution_count": 4,
   "id": "3ba777e2",
   "metadata": {},
   "outputs": [],
   "source": [
    "kek_function = create_function()"
   ]
  },
  {
   "cell_type": "code",
   "execution_count": 5,
   "id": "4e92ed19",
   "metadata": {
    "scrolled": true
   },
   "outputs": [
    {
     "name": "stdout",
     "output_type": "stream",
     "text": [
      "Kacj, hello world!\n"
     ]
    },
    {
     "data": {
      "text/plain": [
       "'Kacj, hello world!'"
      ]
     },
     "execution_count": 5,
     "metadata": {},
     "output_type": "execute_result"
    }
   ],
   "source": [
    "kek_function('Kacj')"
   ]
  },
  {
   "cell_type": "code",
   "execution_count": 12,
   "id": "9474a522",
   "metadata": {},
   "outputs": [],
   "source": [
    "from funcx.sdk.client import FuncXClient\n",
    "from funcx.sdk.executor import FuncXExecutor\n",
    "\n",
    "fxc = FuncXClient()\n",
    "fx = FuncXExecutor(FuncXClient())\n",
    "\n",
    "endpoint_ids = ['00929e1a-ccc5-40be-8b04-c171f132f7b2', '11983ca1-2d45-40d1-b5a2-8736b3544dea']\n",
    "\n",
    "        # train the MNIST model on each of the endpoints and return the result, sending the global weights to each edge\n",
    "tasks = []\n",
    "for e in endpoint_ids:\n",
    "    tasks.append(fx.submit(print_kek, endpoint_id=e))"
   ]
  },
  {
   "cell_type": "code",
   "execution_count": 13,
   "id": "dc5ebba3",
   "metadata": {
    "scrolled": true
   },
   "outputs": [
    {
     "data": {
      "text/plain": [
       "[<Future at 0x271dc8dd8c8 state=finished returned str>,\n",
       " <Future at 0x271dc8cd808 state=finished returned str>]"
      ]
     },
     "execution_count": 13,
     "metadata": {},
     "output_type": "execute_result"
    }
   ],
   "source": [
    "tasks"
   ]
  },
  {
   "cell_type": "code",
   "execution_count": 14,
   "id": "51229142",
   "metadata": {},
   "outputs": [
    {
     "data": {
      "text/plain": [
       "'kek'"
      ]
     },
     "execution_count": 14,
     "metadata": {},
     "output_type": "execute_result"
    },
    {
     "name": "stderr",
     "output_type": "stream",
     "text": [
      "Exception in thread Thread-11:\n",
      "Traceback (most recent call last):\n",
      "  File \"C:\\ProgramData\\Anaconda3\\lib\\threading.py\", line 926, in _bootstrap_inner\n",
      "    self.run()\n",
      "  File \"C:\\ProgramData\\Anaconda3\\lib\\threading.py\", line 870, in run\n",
      "    self._target(*self._args, **self._kwargs)\n",
      "  File \"C:\\ProgramData\\Anaconda3\\lib\\site-packages\\funcx\\sdk\\executor.py\", line 210, in event_loop_thread\n",
      "    msg[\"kwargs\"],\n",
      "  File \"C:\\ProgramData\\Anaconda3\\lib\\asyncio\\base_events.py\", line 587, in run_until_complete\n",
      "    return future.result()\n",
      "  File \"C:\\ProgramData\\Anaconda3\\lib\\site-packages\\funcx\\sdk\\executor.py\", line 217, in web_socket_poller\n",
      "    batch_tasks = self.funcx_client.batch_run(batch)\n",
      "  File \"C:\\ProgramData\\Anaconda3\\lib\\site-packages\\funcx\\sdk\\asynchronous\\ws_polling_task.py\", line 113, in handle_incoming\n",
      "    if start_message_handlers:\n",
      "  File \"C:\\ProgramData\\Anaconda3\\lib\\site-packages\\websockets\\legacy\\protocol.py\", line 421, in recv\n",
      "    await self.ensure_open()\n",
      "  File \"C:\\ProgramData\\Anaconda3\\lib\\site-packages\\websockets\\legacy\\protocol.py\", line 735, in ensure_open\n",
      "    raise self.connection_closed_exc()\n",
      "websockets.exceptions.ConnectionClosedOK: code = 1000 (OK), no reason\n",
      "\n"
     ]
    }
   ],
   "source": [
    "tasks[0].result()"
   ]
  }
 ],
 "metadata": {
  "kernelspec": {
   "display_name": "Python 3 (ipykernel)",
   "language": "python",
   "name": "python3"
  },
  "language_info": {
   "codemirror_mode": {
    "name": "ipython",
    "version": 3
   },
   "file_extension": ".py",
   "mimetype": "text/x-python",
   "name": "python",
   "nbconvert_exporter": "python",
   "pygments_lexer": "ipython3",
   "version": "3.7.10"
  }
 },
 "nbformat": 4,
 "nbformat_minor": 5
}
