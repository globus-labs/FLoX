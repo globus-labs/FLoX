{
 "cells": [
  {
   "cell_type": "markdown",
   "id": "e90b1227",
   "metadata": {},
   "source": [
    "https://towardsdatascience.com/federated-learning-a-step-by-step-implementation-in-tensorflow-aac568283399\n",
    "    \n",
    "    - you can .get_weights() and .set_weights for TF models\n",
    "    - You can also implement weighted averaging based on, perhaps, how much data the local model saw\n",
    "    - sending the optimizer states so that we don't have to initialize them again when using .compile() on the local data"
   ]
  },
  {
   "cell_type": "code",
   "execution_count": 1,
   "id": "a3109cb7",
   "metadata": {},
   "outputs": [],
   "source": [
    "import numpy as np\n",
    "from tensorflow import keras\n",
    "from tensorflow.keras import layers"
   ]
  },
  {
   "cell_type": "code",
   "execution_count": 2,
   "id": "f8226581",
   "metadata": {},
   "outputs": [],
   "source": [
    "def get_samples(num_samples=10): \n",
    "    ''' get a random set of sample MNIST images'''\n",
    "    from tensorflow import keras\n",
    "    import numpy as np\n",
    "\n",
    "    # the data, split between train and test sets\n",
    "    (x_train, y_train), (x_test, y_test) = keras.datasets.mnist.load_data()\n",
    "    \n",
    "    # take a random set of images\n",
    "    idx = np.random.choice(np.arange(len(x_train)), num_samples, replace=True)\n",
    "    x_train = x_train[idx]\n",
    "    y_train = y_train[idx]\n",
    "    return x_train, y_train\n",
    "\n",
    "def get_test_data():\n",
    "    from tensorflow import keras\n",
    "    num_classes = 10\n",
    "    _, (x_test, y_test) = keras.datasets.mnist.load_data()\n",
    "    x_test = x_test.astype(\"float32\") / 255\n",
    "    x_test = np.expand_dims(x_test, -1)\n",
    "    y_test = keras.utils.to_categorical(y_test, num_classes)\n",
    "    return (x_test, y_test)"
   ]
  },
  {
   "cell_type": "code",
   "execution_count": 5,
   "id": "4677b966",
   "metadata": {},
   "outputs": [
    {
     "name": "stdout",
     "output_type": "stream",
     "text": [
      "x_train shape: (1000, 28, 28, 1)\n",
      "1000 train samples\n",
      "10000 test samples\n",
      "WARNING:tensorflow:Please add `keras.layers.InputLayer` instead of `keras.Input` to Sequential model. `keras.Input` is intended to be used by Functional model.\n",
      "Model: \"sequential_1\"\n",
      "_________________________________________________________________\n",
      "Layer (type)                 Output Shape              Param #   \n",
      "=================================================================\n",
      "conv2d_2 (Conv2D)            (None, 26, 26, 32)        320       \n",
      "_________________________________________________________________\n",
      "max_pooling2d_2 (MaxPooling2 (None, 13, 13, 32)        0         \n",
      "_________________________________________________________________\n",
      "conv2d_3 (Conv2D)            (None, 11, 11, 64)        18496     \n",
      "_________________________________________________________________\n",
      "max_pooling2d_3 (MaxPooling2 (None, 5, 5, 64)          0         \n",
      "_________________________________________________________________\n",
      "flatten_1 (Flatten)          (None, 1600)              0         \n",
      "_________________________________________________________________\n",
      "dropout_1 (Dropout)          (None, 1600)              0         \n",
      "_________________________________________________________________\n",
      "dense_1 (Dense)              (None, 10)                16010     \n",
      "=================================================================\n",
      "Total params: 34,826\n",
      "Trainable params: 34,826\n",
      "Non-trainable params: 0\n",
      "_________________________________________________________________\n",
      "Epoch 1/5\n",
      "8/8 [==============================] - 1s 48ms/step - loss: 2.2274 - accuracy: 0.1900 - val_loss: 2.1091 - val_accuracy: 0.1700\n",
      "Epoch 2/5\n",
      "8/8 [==============================] - 0s 35ms/step - loss: 2.0247 - accuracy: 0.3267 - val_loss: 1.8538 - val_accuracy: 0.6000\n",
      "Epoch 3/5\n",
      "8/8 [==============================] - 0s 36ms/step - loss: 1.7599 - accuracy: 0.5300 - val_loss: 1.4950 - val_accuracy: 0.7200\n",
      "Epoch 4/5\n",
      "8/8 [==============================] - 0s 33ms/step - loss: 1.3734 - accuracy: 0.6700 - val_loss: 1.0733 - val_accuracy: 0.7800\n",
      "Epoch 5/5\n",
      "8/8 [==============================] - 0s 34ms/step - loss: 1.0205 - accuracy: 0.7422 - val_loss: 0.8165 - val_accuracy: 0.7900\n",
      "Test loss: 0.7627089619636536\n",
      "Test accuracy: 0.8087000250816345\n"
     ]
    }
   ],
   "source": [
    "# Model / data parameters\n",
    "num_classes = 10\n",
    "input_shape = (28, 28, 1)\n",
    "\n",
    "# the data, split between train and test sets\n",
    "(x_test, y_test) = get_test_data()\n",
    "(x_train, y_train) = get_samples(1000)\n",
    "\n",
    "\n",
    "# Scale images to the [0, 1] range\n",
    "x_train = x_train.astype(\"float32\") / 255\n",
    "#x_test = x_test.astype(\"float32\") / 255\n",
    "\n",
    "# Make sure images have shape (28, 28, 1)\n",
    "x_train = np.expand_dims(x_train, -1)\n",
    "#x_test = np.expand_dims(x_test, -1)\n",
    "print(\"x_train shape:\", x_train.shape)\n",
    "print(x_train.shape[0], \"train samples\")\n",
    "print(x_test.shape[0], \"test samples\")\n",
    "\n",
    "# convert class vectors to binary class matrices\n",
    "y_train = keras.utils.to_categorical(y_train, num_classes)\n",
    "#y_test = keras.utils.to_categorical(y_test, num_classes)\n",
    "\n",
    "global_model = keras.Sequential(\n",
    "    [\n",
    "        keras.Input(shape=input_shape),\n",
    "        layers.Conv2D(32, kernel_size=(3, 3), activation=\"relu\"),\n",
    "        layers.MaxPooling2D(pool_size=(2, 2)),\n",
    "        layers.Conv2D(64, kernel_size=(3, 3), activation=\"relu\"),\n",
    "        layers.MaxPooling2D(pool_size=(2, 2)),\n",
    "        layers.Flatten(),\n",
    "        layers.Dropout(0.5),\n",
    "        layers.Dense(num_classes, activation=\"softmax\"),\n",
    "    ]\n",
    ")\n",
    "\n",
    "global_model.summary()\n",
    "\n",
    "batch_size = 128\n",
    "epochs = 5\n",
    "\n",
    "global_model.compile(loss=\"categorical_crossentropy\", optimizer=\"adam\", metrics=[\"accuracy\"])\n",
    "\n",
    "global_model.fit(x_train, y_train, batch_size=batch_size, epochs=epochs, validation_split=0.1)\n",
    "\n",
    "score = global_model.evaluate(x_test, y_test, verbose=0)\n",
    "print(\"Test loss:\", score[0])\n",
    "print(\"Test accuracy:\", score[1])"
   ]
  },
  {
   "cell_type": "code",
   "execution_count": 6,
   "id": "ba3f3d1d",
   "metadata": {},
   "outputs": [
    {
     "name": "stdout",
     "output_type": "stream",
     "text": [
      "WARNING:tensorflow:Please add `keras.layers.InputLayer` instead of `keras.Input` to Sequential model. `keras.Input` is intended to be used by Functional model.\n",
      "Epoch 1/5\n",
      "8/8 [==============================] - 1s 52ms/step - loss: 0.8142 - accuracy: 0.7467 - val_loss: 0.6754 - val_accuracy: 0.7700\n",
      "Epoch 2/5\n",
      "8/8 [==============================] - 0s 35ms/step - loss: 0.6568 - accuracy: 0.7978 - val_loss: 0.5215 - val_accuracy: 0.8500\n",
      "Epoch 3/5\n",
      "8/8 [==============================] - 0s 32ms/step - loss: 0.5567 - accuracy: 0.8333 - val_loss: 0.4563 - val_accuracy: 0.8700\n",
      "Epoch 4/5\n",
      "8/8 [==============================] - 0s 34ms/step - loss: 0.4719 - accuracy: 0.8656 - val_loss: 0.4263 - val_accuracy: 0.8800\n",
      "Epoch 5/5\n",
      "8/8 [==============================] - 0s 34ms/step - loss: 0.4439 - accuracy: 0.8600 - val_loss: 0.4117 - val_accuracy: 0.8700\n",
      "Test loss: 0.3767952024936676\n",
      "Test accuracy: 0.8906999826431274\n"
     ]
    }
   ],
   "source": [
    "# Local model #1\n",
    "\n",
    "batch_size = 128\n",
    "epochs = 5\n",
    "\n",
    "local_model_1 = keras.Sequential(\n",
    "    [\n",
    "        keras.Input(shape=input_shape),\n",
    "        layers.Conv2D(32, kernel_size=(3, 3), activation=\"relu\"),\n",
    "        layers.MaxPooling2D(pool_size=(2, 2)),\n",
    "        layers.Conv2D(64, kernel_size=(3, 3), activation=\"relu\"),\n",
    "        layers.MaxPooling2D(pool_size=(2, 2)),\n",
    "        layers.Flatten(),\n",
    "        layers.Dropout(0.5),\n",
    "        layers.Dense(num_classes, activation=\"softmax\"),\n",
    "    ]\n",
    ")\n",
    "\n",
    "local_model_1.compile(loss=\"categorical_crossentropy\", optimizer=\"adam\", metrics=[\"accuracy\"])\n",
    "\n",
    "# the data, split between train and test sets\n",
    "(local_x_train_1, Local_y_train_1) = get_samples(100)\n",
    "\n",
    "# get the global weights\n",
    "global_weights = global_model.get_weights()\n",
    "\n",
    "# set the local model's weights to the global ones\n",
    "local_model_1.set_weights(global_weights)\n",
    "\n",
    "# train the local model using additional data\n",
    "local_model_1.fit(x_train, y_train, batch_size=batch_size, epochs=epochs, validation_split=0.1)\n",
    "\n",
    "score = local_model_1.evaluate(x_test, y_test, verbose=0)\n",
    "print(\"Test loss:\", score[0])\n",
    "print(\"Test accuracy:\", score[1])"
   ]
  },
  {
   "cell_type": "code",
   "execution_count": 10,
   "id": "945e039d",
   "metadata": {
    "scrolled": true
   },
   "outputs": [
    {
     "name": "stdout",
     "output_type": "stream",
     "text": [
      "WARNING:tensorflow:Please add `keras.layers.InputLayer` instead of `keras.Input` to Sequential model. `keras.Input` is intended to be used by Functional model.\n",
      "Epoch 1/5\n",
      "8/8 [==============================] - 1s 50ms/step - loss: 0.7863 - accuracy: 0.7678 - val_loss: 0.6205 - val_accuracy: 0.8500\n",
      "Epoch 2/5\n",
      "8/8 [==============================] - 0s 35ms/step - loss: 0.6129 - accuracy: 0.8100 - val_loss: 0.5269 - val_accuracy: 0.8300\n",
      "Epoch 3/5\n",
      "8/8 [==============================] - 0s 36ms/step - loss: 0.5275 - accuracy: 0.8489 - val_loss: 0.4688 - val_accuracy: 0.8400\n",
      "Epoch 4/5\n",
      "8/8 [==============================] - 0s 36ms/step - loss: 0.4855 - accuracy: 0.8556 - val_loss: 0.4315 - val_accuracy: 0.8700\n",
      "Epoch 5/5\n",
      "8/8 [==============================] - 0s 34ms/step - loss: 0.4245 - accuracy: 0.8733 - val_loss: 0.4083 - val_accuracy: 0.8900\n",
      "Test loss: 0.37870416045188904\n",
      "Test accuracy: 0.890999972820282\n"
     ]
    }
   ],
   "source": [
    "# Local model #2\n",
    "\n",
    "batch_size = 128\n",
    "epochs = 5\n",
    "\n",
    "local_model_2 = keras.Sequential(\n",
    "    [\n",
    "        keras.Input(shape=input_shape),\n",
    "        layers.Conv2D(32, kernel_size=(3, 3), activation=\"relu\"),\n",
    "        layers.MaxPooling2D(pool_size=(2, 2)),\n",
    "        layers.Conv2D(64, kernel_size=(3, 3), activation=\"relu\"),\n",
    "        layers.MaxPooling2D(pool_size=(2, 2)),\n",
    "        layers.Flatten(),\n",
    "        layers.Dropout(0.5),\n",
    "        layers.Dense(num_classes, activation=\"softmax\"),\n",
    "    ]\n",
    ")\n",
    "\n",
    "local_model_2.compile(loss=\"categorical_crossentropy\", optimizer=\"adam\", metrics=[\"accuracy\"])\n",
    "\n",
    "# the data, split between train and test sets\n",
    "(local_x_train_2, Local_y_train_2) = get_samples(100)\n",
    "\n",
    "# get the global weights\n",
    "global_weights = global_model.get_weights()\n",
    "\n",
    "# set the local model's weights to the global ones\n",
    "local_model_2.set_weights(global_weights)\n",
    "\n",
    "# train the local model using additional data\n",
    "local_model_2.fit(x_train, y_train, batch_size=batch_size, epochs=epochs, validation_split=0.1)\n",
    "\n",
    "score = local_model_2.evaluate(x_test, y_test, verbose=0)\n",
    "print(\"Test loss:\", score[0])\n",
    "print(\"Test accuracy:\", score[1])"
   ]
  },
  {
   "cell_type": "code",
   "execution_count": 9,
   "id": "136aed56",
   "metadata": {},
   "outputs": [],
   "source": [
    "weights_1 = local_model_1.get_weights()\n",
    "weights_1_np = np.asarray(weights_1, dtype=object)"
   ]
  },
  {
   "cell_type": "code",
   "execution_count": null,
   "id": "3cafac0a",
   "metadata": {},
   "outputs": [],
   "source": []
  },
  {
   "cell_type": "code",
   "execution_count": 11,
   "id": "9c1f87e9",
   "metadata": {},
   "outputs": [],
   "source": [
    "# getting weights of both models\n",
    "weights_1 = local_model_1.get_weights()\n",
    "weights_2 = local_model_2.get_weights()"
   ]
  },
  {
   "cell_type": "code",
   "execution_count": 12,
   "id": "6922db6f",
   "metadata": {},
   "outputs": [],
   "source": [
    "weights_1_np = np.asarray(weights_1, dtype=object)\n",
    "weights_2_np = np.asarray(weights_2, dtype=object)"
   ]
  },
  {
   "cell_type": "code",
   "execution_count": 13,
   "id": "9a81d569",
   "metadata": {},
   "outputs": [],
   "source": [
    "average_weights = np.mean([weights_1_np, weights_2_np], axis=0)"
   ]
  },
  {
   "cell_type": "code",
   "execution_count": 14,
   "id": "df702468",
   "metadata": {},
   "outputs": [
    {
     "name": "stdout",
     "output_type": "stream",
     "text": [
      "WARNING:tensorflow:Please add `keras.layers.InputLayer` instead of `keras.Input` to Sequential model. `keras.Input` is intended to be used by Functional model.\n",
      "Test loss: 0.36944931745529175\n",
      "Test accuracy: 0.8942000269889832\n"
     ]
    }
   ],
   "source": [
    "test_global_model = keras.Sequential(\n",
    "    [\n",
    "        keras.Input(shape=input_shape),\n",
    "        layers.Conv2D(32, kernel_size=(3, 3), activation=\"relu\"),\n",
    "        layers.MaxPooling2D(pool_size=(2, 2)),\n",
    "        layers.Conv2D(64, kernel_size=(3, 3), activation=\"relu\"),\n",
    "        layers.MaxPooling2D(pool_size=(2, 2)),\n",
    "        layers.Flatten(),\n",
    "        layers.Dropout(0.5),\n",
    "        layers.Dense(num_classes, activation=\"softmax\"),\n",
    "    ]\n",
    ")\n",
    "\n",
    "test_global_model.compile(loss=\"categorical_crossentropy\", optimizer=\"adam\", metrics=[\"accuracy\"])\n",
    "\n",
    "test_global_model.set_weights(average_weights)\n",
    "\n",
    "score = test_global_model.evaluate(x_test, y_test, verbose=0)\n",
    "print(\"Test loss:\", score[0])\n",
    "print(\"Test accuracy:\", score[1])"
   ]
  },
  {
   "cell_type": "code",
   "execution_count": 15,
   "id": "e77a459e",
   "metadata": {},
   "outputs": [
    {
     "name": "stdout",
     "output_type": "stream",
     "text": [
      "Test loss: 0.7627089619636536\n",
      "Test accuracy: 0.8087000250816345\n"
     ]
    }
   ],
   "source": [
    "score = global_model.evaluate(x_test, y_test, verbose=0)\n",
    "print(\"Test loss:\", score[0])\n",
    "print(\"Test accuracy:\", score[1])"
   ]
  },
  {
   "cell_type": "code",
   "execution_count": null,
   "id": "70ecf51c",
   "metadata": {},
   "outputs": [],
   "source": []
  }
 ],
 "metadata": {
  "kernelspec": {
   "display_name": "Python 3 (ipykernel)",
   "language": "python",
   "name": "python3"
  },
  "language_info": {
   "codemirror_mode": {
    "name": "ipython",
    "version": 3
   },
   "file_extension": ".py",
   "mimetype": "text/x-python",
   "name": "python",
   "nbconvert_exporter": "python",
   "pygments_lexer": "ipython3",
   "version": "3.7.10"
  }
 },
 "nbformat": 4,
 "nbformat_minor": 5
}
