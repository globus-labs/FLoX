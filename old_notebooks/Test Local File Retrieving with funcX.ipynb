{
 "cells": [
  {
   "cell_type": "code",
   "execution_count": 8,
   "id": "94480ff2",
   "metadata": {},
   "outputs": [],
   "source": [
    "def check_local_diretory(directory='.'):\n",
    "    import os\n",
    "    arr = os.listdir(directory)\n",
    "    \n",
    "    return arr"
   ]
  },
  {
   "cell_type": "code",
   "execution_count": 9,
   "id": "503956b7",
   "metadata": {},
   "outputs": [
    {
     "data": {
      "text/plain": [
       "['.git',\n",
       " '.gitattributes',\n",
       " '.gitignore',\n",
       " '.ipynb_checkpoints',\n",
       " '.virtenv',\n",
       " 'Developing Basic Model Aggregation in Tensorflow.ipynb',\n",
       " 'flx_module',\n",
       " 'mnist-funcx.ipynb',\n",
       " 'requirements.txt',\n",
       " 'Test Local File Retrieving with funcX.ipynb',\n",
       " 'Testing Function Nesting & funcX.ipynb',\n",
       " 'Testing the library.ipynb',\n",
       " 'testing_flower_federated.ipynb',\n",
       " 'user_test.py',\n",
       " 'user_test_2_defined_funcs.py',\n",
       " 'user_test_3_new_model.py',\n",
       " 'vs_code_notbook.ipynb']"
      ]
     },
     "execution_count": 9,
     "metadata": {},
     "output_type": "execute_result"
    }
   ],
   "source": [
    "check_local_diretory()"
   ]
  },
  {
   "cell_type": "code",
   "execution_count": 12,
   "id": "8341e8e7",
   "metadata": {},
   "outputs": [
    {
     "name": "stderr",
     "output_type": "stream",
     "text": [
      "[NON-CRITICAL] Off_process_checker instantiation failed. Continuing...\n",
      "Traceback (most recent call last):\n",
      "  File \"C:\\ProgramData\\Anaconda3\\lib\\site-packages\\funcx\\serialize\\facade.py\", line 32, in __init__\n",
      "    port = self._start_off_process_checker()\n",
      "  File \"C:\\ProgramData\\Anaconda3\\lib\\site-packages\\funcx\\serialize\\facade.py\", line 60, in _start_off_process_checker\n",
      "    [\"off_process_checker.py\"], stdout=std_out, stderr=subprocess.STDOUT\n",
      "  File \"C:\\ProgramData\\Anaconda3\\lib\\subprocess.py\", line 800, in __init__\n",
      "    restore_signals, start_new_session)\n",
      "  File \"C:\\ProgramData\\Anaconda3\\lib\\subprocess.py\", line 1207, in _execute_child\n",
      "    startupinfo)\n",
      "OSError: [WinError 193] %1 is not a valid Win32 application\n"
     ]
    }
   ],
   "source": [
    "from funcx.sdk.client import FuncXClient\n",
    "from funcx.sdk.executor import FuncXExecutor\n",
    "\n",
    "fx = FuncXExecutor(FuncXClient())\n",
    "\n",
    "endpoint_ids = ['00929e1a-ccc5-40be-8b04-c171f132f7b2', '11983ca1-2d45-40d1-b5a2-8736b3544dea']\n",
    "\n",
    "tasks = []\n",
    "for e in endpoint_ids:\n",
    "    tasks.append(fx.submit(check_local_diretory, directory='embedded_devices', endpoint_id=e))"
   ]
  },
  {
   "cell_type": "code",
   "execution_count": 13,
   "id": "b0341b28",
   "metadata": {},
   "outputs": [
    {
     "name": "stdout",
     "output_type": "stream",
     "text": [
      "['Dockerfile', 'utils.py', 'server.py', 'build_image.sh', 'media', 'run_pi.sh', 'run_jetson.sh', 'README.md', 'client.py', 'base_images']\n",
      "['Dockerfile', 'utils.py', 'server.py', 'build_image.sh', 'media', 'run_pi.sh', 'run_jetson.sh', 'README.md', 'client.py', 'base_images']\n"
     ]
    }
   ],
   "source": [
    "for t in tasks:\n",
    "    print(t.result())"
   ]
  },
  {
   "cell_type": "code",
   "execution_count": 16,
   "id": "f79af76c",
   "metadata": {},
   "outputs": [],
   "source": [
    "from tensorflow import keras\n",
    "\n",
    "(x_train, y_train), _ = keras.datasets.mnist.load_data()"
   ]
  },
  {
   "cell_type": "code",
   "execution_count": null,
   "id": "166cdf84",
   "metadata": {},
   "outputs": [],
   "source": [
    "/home/pi/datasets"
   ]
  },
  {
   "cell_type": "code",
   "execution_count": 20,
   "id": "cde9dccc",
   "metadata": {},
   "outputs": [],
   "source": [
    "def open_local_mnist(path_dir='/home/pi/datasets', x_train=\"mnist_x_train.npy\", y_train=\"mnist_y_train.npy\"):\n",
    "    import numpy as np\n",
    "    import os\n",
    "    \n",
    "    x_train_path_file = os.sep.join([path_dir, x_train])\n",
    "    y_train_path_file = os.sep.join([path_dir, x_train])\n",
    "    \n",
    "    with open(x_train_path_file, 'rb') as f:\n",
    "        x_train = np.load(f)\n",
    "        \n",
    "    with open(y_train_path_file, 'rb') as f:\n",
    "        y_train = np.load(f)\n",
    "        \n",
    "    example_image = x_train[0]\n",
    "    \n",
    "    return example_image"
   ]
  },
  {
   "cell_type": "code",
   "execution_count": 21,
   "id": "fc99b3a5",
   "metadata": {},
   "outputs": [
    {
     "name": "stderr",
     "output_type": "stream",
     "text": [
      "[NON-CRITICAL] Off_process_checker instantiation failed. Continuing...\n",
      "Traceback (most recent call last):\n",
      "  File \"C:\\ProgramData\\Anaconda3\\lib\\site-packages\\funcx\\serialize\\facade.py\", line 32, in __init__\n",
      "    port = self._start_off_process_checker()\n",
      "  File \"C:\\ProgramData\\Anaconda3\\lib\\site-packages\\funcx\\serialize\\facade.py\", line 60, in _start_off_process_checker\n",
      "    [\"off_process_checker.py\"], stdout=std_out, stderr=subprocess.STDOUT\n",
      "  File \"C:\\ProgramData\\Anaconda3\\lib\\subprocess.py\", line 800, in __init__\n",
      "    restore_signals, start_new_session)\n",
      "  File \"C:\\ProgramData\\Anaconda3\\lib\\subprocess.py\", line 1207, in _execute_child\n",
      "    startupinfo)\n",
      "OSError: [WinError 193] %1 is not a valid Win32 application\n"
     ]
    }
   ],
   "source": [
    "from funcx.sdk.client import FuncXClient\n",
    "from funcx.sdk.executor import FuncXExecutor\n",
    "\n",
    "fx = FuncXExecutor(FuncXClient())\n",
    "\n",
    "endpoint_ids = ['00929e1a-ccc5-40be-8b04-c171f132f7b2', '11983ca1-2d45-40d1-b5a2-8736b3544dea']\n",
    "\n",
    "tasks = []\n",
    "for e in endpoint_ids:\n",
    "    tasks.append(fx.submit(open_local_mnist, endpoint_id=e))"
   ]
  },
  {
   "cell_type": "code",
   "execution_count": 25,
   "id": "9641a759",
   "metadata": {},
   "outputs": [
    {
     "name": "stdout",
     "output_type": "stream",
     "text": [
      "(28, 28)\n",
      "(28, 28)\n"
     ]
    }
   ],
   "source": [
    "for t in tasks:\n",
    "    print(t.result().shape)"
   ]
  },
  {
   "cell_type": "code",
   "execution_count": 38,
   "id": "884e0c4d",
   "metadata": {},
   "outputs": [],
   "source": [
    "def get_keras_data(dataset):\n",
    "    '''\n",
    "    Returns (x_train, y_train) of a chosen built-in Keras dataset.\n",
    "    Options: ['mnist', 'fashion_mnist', 'cifar10', 'cifar100', 'imdb', 'reuters', 'boston_housing']\n",
    "    \n",
    "    '''\n",
    "    from tensorflow import keras\n",
    "    import numpy as np\n",
    "\n",
    "    available_datasets = ['mnist', 'fashion_mnist', 'cifar10', 'cifar100', 'imdb', 'reuters', 'boston_housing']\n",
    "    dataset_mapping= {\n",
    "        'mnist': keras.datasets.mnist,\n",
    "        'fashion_mnist': keras.datasets.fashion_mnist,\n",
    "        'cifar10': keras.datasets.cifar10,\n",
    "        'cifar100': keras.datasets.cifar100,\n",
    "        'imdb': keras.datasets.imdb,\n",
    "        'reuters': keras.datasets.reuters,\n",
    "        'boston_housing': keras.datasets.boston_housing\n",
    "    }\n",
    "\n",
    "    # check if the dataset exists\n",
    "    if dataset not in available_datasets:\n",
    "        raise Exception(f\"Please select one of the built-in Keras datasets: {available_datasets}\")\n",
    "\n",
    "    else:\n",
    "        (x_train, y_train), _ = dataset_mapping[dataset].load_data()\n",
    "        return (x_train, y_train)"
   ]
  },
  {
   "cell_type": "code",
   "execution_count": 59,
   "id": "3f253311",
   "metadata": {
    "scrolled": true
   },
   "outputs": [
    {
     "data": {
      "text/plain": [
       "((60000, 28, 28), (60000,))"
      ]
     },
     "execution_count": 59,
     "metadata": {},
     "output_type": "execute_result"
    }
   ],
   "source": [
    "x_train, y_train = get_keras_data('mnist')\n",
    "x_train.shape, y_train.shape"
   ]
  },
  {
   "cell_type": "code",
   "execution_count": 63,
   "id": "8ea6c079",
   "metadata": {},
   "outputs": [],
   "source": [
    "def process_keras_data(x_train, y_train, num_samples=None):\n",
    "    from tensorflow import keras\n",
    "    import numpy as np\n",
    "\n",
    "    # take a random set of images\n",
    "    if num_samples:\n",
    "        idx = np.random.choice(np.arange(len(x_train)), num_samples, replace=True)\n",
    "        x_train = x_train[idx]\n",
    "        y_train = y_train[idx]\n",
    "        \n",
    "    # Scale images to the [0, 1] range\n",
    "    x_train = x_train.astype(\"float32\") / 255\n",
    "\n",
    "    # Make sure images have shape (num_samples, x, y, 1) if working with Black & White images\n",
    "    if x_train.shape[-1] not in [1, 3]:\n",
    "        x_train = np.expand_dims(x_train, -1)\n",
    "\n",
    "    return (x_train, y_train)"
   ]
  },
  {
   "cell_type": "code",
   "execution_count": 64,
   "id": "e1a2d8d0",
   "metadata": {},
   "outputs": [
    {
     "data": {
      "text/plain": [
       "28"
      ]
     },
     "execution_count": 64,
     "metadata": {},
     "output_type": "execute_result"
    }
   ],
   "source": [
    "x_train.shape[-1]"
   ]
  },
  {
   "cell_type": "code",
   "execution_count": 66,
   "id": "3af36a41",
   "metadata": {},
   "outputs": [
    {
     "data": {
      "text/plain": [
       "(1000, 28, 28, 1)"
      ]
     },
     "execution_count": 66,
     "metadata": {},
     "output_type": "execute_result"
    }
   ],
   "source": [
    "x_train_proc, y_train_proc = process_data(x_train, y_train, 1000)\n",
    "x_train_proc.shape"
   ]
  },
  {
   "cell_type": "code",
   "execution_count": 78,
   "id": "04271288",
   "metadata": {},
   "outputs": [],
   "source": [
    "import collections\n",
    "\n",
    "def check(a=None, b=None):\n",
    "    if a:\n",
    "        if not b or not isinstance(b, collections.Callable):\n",
    "            raise TypeError('b is not a function')\n",
    "        else:\n",
    "            print('Thanks!')"
   ]
  },
  {
   "cell_type": "code",
   "execution_count": 79,
   "id": "1e9b6eec",
   "metadata": {},
   "outputs": [
    {
     "name": "stdout",
     "output_type": "stream",
     "text": [
      "Thanks!\n"
     ]
    }
   ],
   "source": [
    "def hello_world():\n",
    "    return 'hello, world!'\n",
    "\n",
    "check(a=2, b=hello_world)"
   ]
  },
  {
   "cell_type": "code",
   "execution_count": null,
   "id": "f4bc8e60",
   "metadata": {},
   "outputs": [],
   "source": []
  }
 ],
 "metadata": {
  "kernelspec": {
   "display_name": "Python 3 (ipykernel)",
   "language": "python",
   "name": "python3"
  },
  "language_info": {
   "codemirror_mode": {
    "name": "ipython",
    "version": 3
   },
   "file_extension": ".py",
   "mimetype": "text/x-python",
   "name": "python",
   "nbconvert_exporter": "python",
   "pygments_lexer": "ipython3",
   "version": "3.7.10"
  }
 },
 "nbformat": 4,
 "nbformat_minor": 5
}
