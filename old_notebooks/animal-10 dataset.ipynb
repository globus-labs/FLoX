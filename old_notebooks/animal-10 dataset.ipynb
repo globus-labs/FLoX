{
 "cells": [
  {
   "cell_type": "code",
   "execution_count": 1,
   "id": "0a364b27",
   "metadata": {},
   "outputs": [],
   "source": [
    "import os\n",
    "import cv2\n",
    "import numpy as np\n",
    "from sklearn.model_selection import train_test_split"
   ]
  },
  {
   "cell_type": "code",
   "execution_count": 2,
   "id": "1ee8dd41",
   "metadata": {},
   "outputs": [],
   "source": [
    "dataset_path = os.path.abspath(\"C:/Users/Nikita/jupyter_notebooks/datasets/animal10\")\n",
    "\n",
    "# 3:color or 1:grayscale\n",
    "depth = 3\n",
    "image_size_y = 32\n",
    "image_size_x = 32\n",
    "\n",
    "image_data = []\n",
    "image_class = []"
   ]
  },
  {
   "cell_type": "code",
   "execution_count": 17,
   "id": "db15bcad",
   "metadata": {},
   "outputs": [],
   "source": [
    "for i, dir in enumerate(os.listdir(dataset_path)):\n",
    "    class_dir = (dataset_path + '/' + dir)\n",
    "    for image in os.listdir(class_dir):\n",
    "        image_file = class_dir + '/' + image\n",
    "        img = cv2.imread(image_file)\n",
    "        img = cv2.cvtColor(img, cv2.COLOR_BGR2RGB)\n",
    "        res = cv2.resize(img, dsize=(image_size_y, image_size_x), interpolation=cv2.INTER_CUBIC)\n",
    "        image_data.append(res)\n",
    "        image_class.append(i)\n",
    "        \n",
    "image_data = np.array(image_data, dtype='float32')\n",
    "image_class = np.array(image_class, dtype='float32')\n",
    "\n",
    "train_image, test_image, train_label, test_label = train_test_split(image_data,\n",
    "                                                                    image_class,\n",
    "                                                                    test_size=0.2)"
   ]
  },
  {
   "cell_type": "code",
   "execution_count": 20,
   "id": "c53ba557",
   "metadata": {},
   "outputs": [],
   "source": [
    "import pickle\n",
    "\n",
    "with open('datasets/test_data_animal10_32.pkl', 'wb') as file:\n",
    "    test_set = (test_image, test_label)\n",
    "    pickle.dump(test_set, file)\n",
    "    \n",
    "\n",
    "with open('datasets/train_data_animal10_32.pkl', 'wb') as file:\n",
    "    train_set = (train_image, train_label)\n",
    "    pickle.dump(train_set, file)"
   ]
  },
  {
   "cell_type": "markdown",
   "id": "9e01dd96",
   "metadata": {},
   "source": [
    "## Load Data"
   ]
  },
  {
   "cell_type": "code",
   "execution_count": 42,
   "id": "9810e640",
   "metadata": {},
   "outputs": [],
   "source": [
    "file = open('datasets/test_data_animal10_32.pkl', 'rb')\n",
    "test_image, test_label = pickle.load(file)\n",
    "file.close()\n",
    "\n",
    "file = open('datasets/train_data_animal10_32.pkl', 'rb')\n",
    "train_image, train_label = pickle.load(file)\n",
    "file.close()"
   ]
  },
  {
   "cell_type": "code",
   "execution_count": 43,
   "id": "a745dc39",
   "metadata": {},
   "outputs": [],
   "source": [
    "with open('datasets/x_animal10_32.npy', 'wb') as f:\n",
    "    np.save(f, train_image)\n",
    "    \n",
    "with open('datasets/y_animal10_32.npy', 'wb') as f:\n",
    "    np.save(f, train_label)"
   ]
  },
  {
   "cell_type": "code",
   "execution_count": 44,
   "id": "f436cd9c",
   "metadata": {},
   "outputs": [],
   "source": [
    "with open('datasets/x_animal10_32.npy', 'rb') as f:\n",
    "    train_image = np.load(f)\n",
    "    \n",
    "with open('datasets/y_animal10_32.npy', 'rb') as f:\n",
    "    train_label = np.load(f)"
   ]
  },
  {
   "cell_type": "code",
   "execution_count": 51,
   "id": "587f3860",
   "metadata": {},
   "outputs": [
    {
     "data": {
      "text/plain": [
       "20943"
      ]
     },
     "execution_count": 51,
     "metadata": {},
     "output_type": "execute_result"
    }
   ],
   "source": [
    "train_image.shape[0]"
   ]
  },
  {
   "cell_type": "code",
   "execution_count": 45,
   "id": "5efff324",
   "metadata": {},
   "outputs": [],
   "source": [
    "def process_data(train_image, train_label):\n",
    "    depth = 3\n",
    "    image_size_y = 32\n",
    "    image_size_x = 32\n",
    "    \n",
    "    train_image = train_image.reshape(len(train_image), image_size_x, image_size_y, depth)\n",
    "    train_image = train_image / 255.0\n",
    "\n",
    "    return (train_image, train_label)"
   ]
  },
  {
   "cell_type": "code",
   "execution_count": 46,
   "id": "9ab9709d",
   "metadata": {},
   "outputs": [],
   "source": [
    "train_image, train_label = process_data(train_image, train_label)"
   ]
  },
  {
   "cell_type": "code",
   "execution_count": 5,
   "id": "bfbaff3c",
   "metadata": {},
   "outputs": [
    {
     "data": {
      "text/plain": [
       "1"
      ]
     },
     "execution_count": 5,
     "metadata": {},
     "output_type": "execute_result"
    }
   ],
   "source": [
    "inp = (32, 28, 27, 1)\n",
    "inp[3]"
   ]
  },
  {
   "cell_type": "code",
   "execution_count": 47,
   "id": "b833efbd",
   "metadata": {
    "scrolled": false
   },
   "outputs": [
    {
     "name": "stdout",
     "output_type": "stream",
     "text": [
      "8.0\n",
      "(32, 32, 3)\n"
     ]
    },
    {
     "data": {
      "image/png": "[encoded data removed]",
      "text/plain": [
       "<Figure size 432x288 with 2 Axes>"
      ]
     },
     "metadata": {
      "needs_background": "light"
     },
     "output_type": "display_data"
    }
   ],
   "source": [
    "import matplotlib.pyplot as plt\n",
    "n = 2\n",
    "img = train_image[n]\n",
    "print(train_label[n])\n",
    "print(img.shape)\n",
    "\n",
    "plt.figure()\n",
    "plt.imshow(img)\n",
    "plt.colorbar()\n",
    "plt.grid(False)\n",
    "plt.show()"
   ]
  },
  {
   "cell_type": "markdown",
   "id": "ebabe2bb",
   "metadata": {},
   "source": [
    "## Model"
   ]
  },
  {
   "cell_type": "code",
   "execution_count": 37,
   "id": "46dab5ef",
   "metadata": {},
   "outputs": [],
   "source": [
    "from tensorflow import keras\n",
    "from tensorflow.keras import layers"
   ]
  },
  {
   "cell_type": "code",
   "execution_count": 41,
   "id": "8592b085",
   "metadata": {},
   "outputs": [
    {
     "name": "stdout",
     "output_type": "stream",
     "text": [
      "Epoch 1/10\n",
      "655/655 [==============================] - 25s 37ms/step - loss: 1.9748 - accuracy: 0.3029\n",
      "Epoch 2/10\n",
      "655/655 [==============================] - 25s 37ms/step - loss: 1.6024 - accuracy: 0.4433\n",
      "Epoch 3/10\n",
      "655/655 [==============================] - 25s 38ms/step - loss: 1.4104 - accuracy: 0.5146\n",
      "Epoch 4/10\n",
      "655/655 [==============================] - 25s 38ms/step - loss: 1.3100 - accuracy: 0.5503\n",
      "Epoch 5/10\n",
      "655/655 [==============================] - 25s 38ms/step - loss: 1.2172 - accuracy: 0.5805\n",
      "Epoch 6/10\n",
      "655/655 [==============================] - 25s 38ms/step - loss: 1.1428 - accuracy: 0.6102\n",
      "Epoch 7/10\n",
      "655/655 [==============================] - 25s 38ms/step - loss: 1.0842 - accuracy: 0.6296\n",
      "Epoch 8/10\n",
      "655/655 [==============================] - 25s 38ms/step - loss: 1.0368 - accuracy: 0.6436\n",
      "Epoch 9/10\n",
      "655/655 [==============================] - 25s 38ms/step - loss: 0.9863 - accuracy: 0.6617\n",
      "Epoch 10/10\n",
      "655/655 [==============================] - 25s 38ms/step - loss: 0.9428 - accuracy: 0.6765\n"
     ]
    },
    {
     "data": {
      "text/plain": [
       "<tensorflow.python.keras.callbacks.History at 0x20b718380c8>"
      ]
     },
     "execution_count": 41,
     "metadata": {},
     "output_type": "execute_result"
    }
   ],
   "source": [
    "input_shape = (32, 32, 3)\n",
    "num_classes=10\n",
    "\n",
    "global_model = keras.Sequential(\n",
    "    [\n",
    "        keras.Input(shape=input_shape),\n",
    "        layers.Conv2D(32, kernel_size=(3, 3), activation=\"relu\"),\n",
    "        layers.Conv2D(32, kernel_size=(3, 3), activation=\"relu\"),\n",
    "        layers.MaxPooling2D(pool_size=(2, 2)),\n",
    "        layers.Conv2D(64, kernel_size=(3, 3), activation=\"relu\"),\n",
    "        layers.Conv2D(64, kernel_size=(3, 3), activation=\"relu\"),\n",
    "        layers.MaxPooling2D(pool_size=(2, 2)),\n",
    "        layers.Flatten(),\n",
    "        layers.Dropout(0.5),\n",
    "        layers.Dense(128, activation=\"relu\"),\n",
    "        layers.Dense(num_classes, activation=\"softmax\"),\n",
    "    ]\n",
    "    )\n",
    "\n",
    "global_model.compile(loss=\"sparse_categorical_crossentropy\", optimizer=\"adam\", metrics=[\"accuracy\"])\n",
    "global_model.fit(train_image, train_label, epochs=10)"
   ]
  },
  {
   "cell_type": "code",
   "execution_count": null,
   "id": "00fca573",
   "metadata": {},
   "outputs": [],
   "source": []
  }
 ],
 "metadata": {
  "kernelspec": {
   "display_name": "Python 3 (ipykernel)",
   "language": "python",
   "name": "python3"
  },
  "language_info": {
   "codemirror_mode": {
    "name": "ipython",
    "version": 3
   },
   "file_extension": ".py",
   "mimetype": "text/x-python",
   "name": "python",
   "nbconvert_exporter": "python",
   "pygments_lexer": "ipython3",
   "version": "3.7.10"
  }
 },
 "nbformat": 4,
 "nbformat_minor": 5
}
