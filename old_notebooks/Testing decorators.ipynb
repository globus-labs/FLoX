{
 "cells": [
  {
   "cell_type": "code",
   "execution_count": 1,
   "id": "08a69539",
   "metadata": {},
   "outputs": [],
   "source": [
    "from funcx.sdk.client import FuncXClient\n",
    "from funcx.sdk.executor import FuncXExecutor\n",
    "\n",
    "def federated_decorator(func):\n",
    "    def wrapper(*args, **kwargs):\n",
    "        fx = FuncXExecutor(FuncXClient())\n",
    "        tasks = []\n",
    "        for e in kwargs[\"endpoint_ids\"]:\n",
    "            tasks.append(fx.submit(func, \n",
    "                                    *args,\n",
    "                                   **kwargs,\n",
    "                                    endpoint_id=e))\n",
    "        return tasks\n",
    "    \n",
    "    return wrapper"
   ]
  },
  {
   "cell_type": "code",
   "execution_count": 2,
   "id": "c9c2ae10",
   "metadata": {},
   "outputs": [],
   "source": [
    "@federated_decorator\n",
    "def hello():\n",
    "    return 'hello, world!'"
   ]
  },
  {
   "cell_type": "code",
   "execution_count": 3,
   "id": "acd3ddd3",
   "metadata": {
    "scrolled": true
   },
   "outputs": [
    {
     "name": "stderr",
     "output_type": "stream",
     "text": [
      "[NON-CRITICAL] Off_process_checker instantiation failed. Continuing...\n",
      "Traceback (most recent call last):\n",
      "  File \"C:\\ProgramData\\Anaconda3\\lib\\site-packages\\funcx\\serialize\\facade.py\", line 32, in __init__\n",
      "    port = self._start_off_process_checker()\n",
      "  File \"C:\\ProgramData\\Anaconda3\\lib\\site-packages\\funcx\\serialize\\facade.py\", line 60, in _start_off_process_checker\n",
      "    [\"off_process_checker.py\"], stdout=std_out, stderr=subprocess.STDOUT\n",
      "  File \"C:\\ProgramData\\Anaconda3\\lib\\subprocess.py\", line 800, in __init__\n",
      "    restore_signals, start_new_session)\n",
      "  File \"C:\\ProgramData\\Anaconda3\\lib\\subprocess.py\", line 1207, in _execute_child\n",
      "    startupinfo)\n",
      "OSError: [WinError 193] %1 is not a valid Win32 application\n",
      "Caught unexpected exception while setting results\n",
      "Traceback (most recent call last):\n",
      "  File \"C:\\ProgramData\\Anaconda3\\lib\\site-packages\\funcx\\sdk\\asynchronous\\ws_polling_task.py\", line 200, in set_result\n",
      "    data[\"exception\"]\n",
      "  File \"C:\\ProgramData\\Anaconda3\\lib\\site-packages\\funcx\\serialize\\facade.py\", line 156, in deserialize\n",
      "    result = self.methods_for_data[header].deserialize(payload)\n",
      "  File \"C:\\ProgramData\\Anaconda3\\lib\\site-packages\\funcx\\serialize\\concretes.py\", line 27, in deserialize\n",
      "    data = pickle.loads(codecs.decode(chomped.encode(), \"base64\"))\n",
      "  File \"C:\\Users\\Nikita\\AppData\\Roaming\\Python\\Python37\\site-packages\\parsl\\__init__.py\", line 22, in <module>\n",
      "    from parsl.app.app import bash_app, join_app, python_app\n",
      "  File \"C:\\Users\\Nikita\\AppData\\Roaming\\Python\\Python37\\site-packages\\parsl\\app\\app.py\", line 12, in <module>\n",
      "    from parsl.dataflow.dflow import DataFlowKernel\n",
      "  File \"C:\\Users\\Nikita\\AppData\\Roaming\\Python\\Python37\\site-packages\\parsl\\dataflow\\dflow.py\", line 23, in <module>\n",
      "    from parsl.config import Config\n",
      "  File \"C:\\Users\\Nikita\\AppData\\Roaming\\Python\\Python37\\site-packages\\parsl\\config.py\", line 7, in <module>\n",
      "    from parsl.executors.base import ParslExecutor\n",
      "  File \"C:\\Users\\Nikita\\AppData\\Roaming\\Python\\Python37\\site-packages\\parsl\\executors\\__init__.py\", line 4, in <module>\n",
      "    from parsl.executors.high_throughput.executor import HighThroughputExecutor\n",
      "  File \"C:\\Users\\Nikita\\AppData\\Roaming\\Python\\Python37\\site-packages\\parsl\\executors\\high_throughput\\executor.py\", line 26, in <module>\n",
      "    from parsl.addresses import get_all_addresses\n",
      "  File \"C:\\Users\\Nikita\\AppData\\Roaming\\Python\\Python37\\site-packages\\parsl\\addresses.py\", line 13, in <module>\n",
      "    import fcntl\n",
      "ModuleNotFoundError: No module named 'fcntl'\n"
     ]
    }
   ],
   "source": [
    "endpoint_ids = ['00929e1a-ccc5-40be-8b04-c171f132f7b2', '11983ca1-2d45-40d1-b5a2-8736b3544dea']\n",
    "res = hello(endpoint_ids=endpoint_ids)"
   ]
  },
  {
   "cell_type": "code",
   "execution_count": 27,
   "id": "300ba3a4",
   "metadata": {},
   "outputs": [
    {
     "name": "stdout",
     "output_type": "stream",
     "text": [
      "this is new functionality here yoo\n",
      "('bob',)\n",
      "{'kek': 'yeey'}\n"
     ]
    },
    {
     "data": {
      "text/plain": [
       "\"hello, bob, {'kek': 'yeey'}!\""
      ]
     },
     "execution_count": 27,
     "metadata": {},
     "output_type": "execute_result"
    },
    {
     "name": "stderr",
     "output_type": "stream",
     "text": [
      "Exception in thread Thread-6:\n",
      "Traceback (most recent call last):\n",
      "  File \"C:\\ProgramData\\Anaconda3\\lib\\site-packages\\websockets\\legacy\\protocol.py\", line 750, in transfer_data\n",
      "    message = await self.read_message()\n",
      "  File \"C:\\ProgramData\\Anaconda3\\lib\\site-packages\\websockets\\legacy\\protocol.py\", line 819, in read_message\n",
      "    frame = await self.read_data_frame(max_size=self.max_size)\n",
      "  File \"C:\\ProgramData\\Anaconda3\\lib\\site-packages\\websockets\\legacy\\protocol.py\", line 895, in read_data_frame\n",
      "    frame = await self.read_frame(max_size)\n",
      "  File \"C:\\ProgramData\\Anaconda3\\lib\\site-packages\\websockets\\legacy\\protocol.py\", line 975, in read_frame\n",
      "    extensions=self.extensions,\n",
      "  File \"C:\\ProgramData\\Anaconda3\\lib\\site-packages\\websockets\\legacy\\framing.py\", line 55, in read\n",
      "    data = await reader(2)\n",
      "  File \"C:\\ProgramData\\Anaconda3\\lib\\asyncio\\streams.py\", line 679, in readexactly\n",
      "    await self._wait_for_data('readexactly')\n",
      "  File \"C:\\ProgramData\\Anaconda3\\lib\\asyncio\\streams.py\", line 473, in _wait_for_data\n",
      "    await self._waiter\n",
      "  File \"C:\\ProgramData\\Anaconda3\\lib\\asyncio\\selector_events.py\", line 814, in _read_ready__data_received\n",
      "    data = self._sock.recv(self.max_size)\n",
      "ConnectionResetError: [WinError 10054] An existing connection was forcibly closed by the remote host\n",
      "\n",
      "The above exception was the direct cause of the following exception:\n",
      "\n",
      "Traceback (most recent call last):\n",
      "  File \"C:\\ProgramData\\Anaconda3\\lib\\threading.py\", line 926, in _bootstrap_inner\n",
      "    self.run()\n",
      "  File \"C:\\ProgramData\\Anaconda3\\lib\\threading.py\", line 870, in run\n",
      "    self._target(*self._args, **self._kwargs)\n",
      "  File \"C:\\ProgramData\\Anaconda3\\lib\\site-packages\\funcx\\sdk\\executor.py\", line 315, in event_loop_thread\n",
      "    eventloop.run_until_complete(self.web_socket_poller())\n",
      "  File \"C:\\ProgramData\\Anaconda3\\lib\\asyncio\\base_events.py\", line 587, in run_until_complete\n",
      "    return future.result()\n",
      "  File \"C:\\ProgramData\\Anaconda3\\lib\\site-packages\\funcx\\sdk\\executor.py\", line 323, in web_socket_poller\n",
      "    self._function_future_map, auto_close=True\n",
      "  File \"C:\\ProgramData\\Anaconda3\\lib\\site-packages\\funcx\\sdk\\asynchronous\\ws_polling_task.py\", line 137, in handle_incoming\n",
      "    raw_data = await asyncio.wait_for(self.ws.recv(), timeout=1.0)\n",
      "  File \"C:\\ProgramData\\Anaconda3\\lib\\asyncio\\tasks.py\", line 442, in wait_for\n",
      "    return fut.result()\n",
      "  File \"C:\\ProgramData\\Anaconda3\\lib\\site-packages\\websockets\\legacy\\protocol.py\", line 421, in recv\n",
      "    await self.ensure_open()\n",
      "  File \"C:\\ProgramData\\Anaconda3\\lib\\site-packages\\websockets\\legacy\\protocol.py\", line 726, in ensure_open\n",
      "    raise self.connection_closed_exc()\n",
      "websockets.exceptions.ConnectionClosedError: code = 1006 (connection closed abnormally [internal]), no reason\n",
      "\n"
     ]
    }
   ],
   "source": [
    "def simple_decorator(func):\n",
    "    def wrapper(*args, **kwargs):\n",
    "        print('this is new functionality here yoo')\n",
    "        print(args)\n",
    "        print(kwargs)\n",
    "        res = func(*args, **kwargs)\n",
    "        return res\n",
    "        \n",
    "    return wrapper\n",
    "\n",
    "@simple_decorator\n",
    "def hello(name, **kwargs):\n",
    "    return f'hello, {name}, {kwargs}!'\n",
    "\n",
    "hello('bob', kek='yeey')"
   ]
  },
  {
   "cell_type": "code",
   "execution_count": 17,
   "id": "5d674b7b",
   "metadata": {},
   "outputs": [],
   "source": [
    "def function_creator():\n",
    "    def new_function():\n",
    "        return 'Yeey I am a cool function!'\n",
    "    \n",
    "    return new_function"
   ]
  },
  {
   "cell_type": "code",
   "execution_count": 20,
   "id": "73956a7d",
   "metadata": {},
   "outputs": [],
   "source": [
    "\n",
    "new_train_function = simple_decorator(function_creator())"
   ]
  },
  {
   "cell_type": "code",
   "execution_count": 21,
   "id": "9893c00a",
   "metadata": {},
   "outputs": [
    {
     "name": "stdout",
     "output_type": "stream",
     "text": [
      "this is new functionality here yoo\n",
      "()\n",
      "{}\n"
     ]
    },
    {
     "data": {
      "text/plain": [
       "'Yeey I am a cool function!'"
      ]
     },
     "execution_count": 21,
     "metadata": {},
     "output_type": "execute_result"
    }
   ],
   "source": [
    "new_train_function()"
   ]
  },
  {
   "cell_type": "code",
   "execution_count": null,
   "id": "6c9bdb58",
   "metadata": {},
   "outputs": [],
   "source": []
  }
 ],
 "metadata": {
  "kernelspec": {
   "display_name": "Python 3 (ipykernel)",
   "language": "python",
   "name": "python3"
  },
  "language_info": {
   "codemirror_mode": {
    "name": "ipython",
    "version": 3
   },
   "file_extension": ".py",
   "mimetype": "text/x-python",
   "name": "python",
   "nbconvert_exporter": "python",
   "pygments_lexer": "ipython3",
   "version": "3.7.10"
  }
 },
 "nbformat": 4,
 "nbformat_minor": 5
}
