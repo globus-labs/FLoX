{
 "cells": [
  {
   "cell_type": "code",
   "execution_count": 5,
   "id": "08a69539",
   "metadata": {},
   "outputs": [],
   "source": [
    "from funcx.sdk.client import FuncXClient\n",
    "from funcx.sdk.executor import FuncXExecutor\n",
    "\n",
    "def federated_decorator(func):\n",
    "    def wrapper(*args, **kwargs):\n",
    "        fx = FuncXExecutor(FuncXClient())\n",
    "        tasks = []\n",
    "        for e in kwargs[\"endpoint_ids\"]:\n",
    "            tasks.append(fx.submit(func, \n",
    "                                    *args,\n",
    "                                    endpoint_id=e))\n",
    "        return tasks\n",
    "    \n",
    "    return wrapper"
   ]
  },
  {
   "cell_type": "code",
   "execution_count": 6,
   "id": "c9c2ae10",
   "metadata": {},
   "outputs": [],
   "source": [
    "@federated_decorator\n",
    "def hello():\n",
    "    return 'hello, world!'"
   ]
  },
  {
   "cell_type": "code",
   "execution_count": 9,
   "id": "acd3ddd3",
   "metadata": {
    "scrolled": true
   },
   "outputs": [
    {
     "name": "stderr",
     "output_type": "stream",
     "text": [
      "[NON-CRITICAL] Off_process_checker instantiation failed. Continuing...\n",
      "Traceback (most recent call last):\n",
      "  File \"C:\\ProgramData\\Anaconda3\\lib\\site-packages\\funcx\\serialize\\facade.py\", line 32, in __init__\n",
      "    port = self._start_off_process_checker()\n",
      "  File \"C:\\ProgramData\\Anaconda3\\lib\\site-packages\\funcx\\serialize\\facade.py\", line 60, in _start_off_process_checker\n",
      "    [\"off_process_checker.py\"], stdout=std_out, stderr=subprocess.STDOUT\n",
      "  File \"C:\\ProgramData\\Anaconda3\\lib\\subprocess.py\", line 800, in __init__\n",
      "    restore_signals, start_new_session)\n",
      "  File \"C:\\ProgramData\\Anaconda3\\lib\\subprocess.py\", line 1207, in _execute_child\n",
      "    startupinfo)\n",
      "OSError: [WinError 193] %1 is not a valid Win32 application\n",
      "Caught unexpected exception while setting results\n",
      "Traceback (most recent call last):\n",
      "  File \"C:\\ProgramData\\Anaconda3\\lib\\site-packages\\funcx\\sdk\\asynchronous\\ws_polling_task.py\", line 200, in set_result\n",
      "    data[\"exception\"]\n",
      "  File \"C:\\ProgramData\\Anaconda3\\lib\\site-packages\\funcx\\serialize\\facade.py\", line 156, in deserialize\n",
      "    result = self.methods_for_data[header].deserialize(payload)\n",
      "  File \"C:\\ProgramData\\Anaconda3\\lib\\site-packages\\funcx\\serialize\\concretes.py\", line 27, in deserialize\n",
      "    data = pickle.loads(codecs.decode(chomped.encode(), \"base64\"))\n",
      "  File \"C:\\Users\\Nikita\\AppData\\Roaming\\Python\\Python37\\site-packages\\parsl\\__init__.py\", line 22, in <module>\n",
      "    from parsl.app.app import bash_app, join_app, python_app\n",
      "  File \"C:\\Users\\Nikita\\AppData\\Roaming\\Python\\Python37\\site-packages\\parsl\\app\\app.py\", line 12, in <module>\n",
      "    from parsl.dataflow.dflow import DataFlowKernel\n",
      "  File \"C:\\Users\\Nikita\\AppData\\Roaming\\Python\\Python37\\site-packages\\parsl\\dataflow\\dflow.py\", line 27, in <module>\n",
      "    from parsl.dataflow.flow_control import FlowControl, Timer\n",
      "  File \"C:\\Users\\Nikita\\AppData\\Roaming\\Python\\Python37\\site-packages\\parsl\\dataflow\\flow_control.py\", line 6, in <module>\n",
      "    from parsl.dataflow.task_status_poller import TaskStatusPoller\n",
      "  File \"C:\\Users\\Nikita\\AppData\\Roaming\\Python\\Python37\\site-packages\\parsl\\dataflow\\task_status_poller.py\", line 10, in <module>\n",
      "    from parsl.dataflow.strategy import Strategy\n",
      "  File \"C:\\Users\\Nikita\\AppData\\Roaming\\Python\\Python37\\site-packages\\parsl\\dataflow\\strategy.py\", line 7, in <module>\n",
      "    from parsl.executors import HighThroughputExecutor, ExtremeScaleExecutor\n",
      "  File \"C:\\Users\\Nikita\\AppData\\Roaming\\Python\\Python37\\site-packages\\parsl\\executors\\__init__.py\", line 4, in <module>\n",
      "    from parsl.executors.high_throughput.executor import HighThroughputExecutor\n",
      "  File \"C:\\Users\\Nikita\\AppData\\Roaming\\Python\\Python37\\site-packages\\parsl\\executors\\high_throughput\\executor.py\", line 26, in <module>\n",
      "    from parsl.addresses import get_all_addresses\n",
      "  File \"C:\\Users\\Nikita\\AppData\\Roaming\\Python\\Python37\\site-packages\\parsl\\addresses.py\", line 13, in <module>\n",
      "    import fcntl\n",
      "ModuleNotFoundError: No module named 'fcntl'\n",
      "Caught unexpected exception while setting results\n",
      "Traceback (most recent call last):\n",
      "  File \"C:\\ProgramData\\Anaconda3\\lib\\site-packages\\funcx\\sdk\\asynchronous\\ws_polling_task.py\", line 200, in set_result\n",
      "    data[\"exception\"]\n",
      "  File \"C:\\ProgramData\\Anaconda3\\lib\\site-packages\\funcx\\serialize\\facade.py\", line 156, in deserialize\n",
      "    result = self.methods_for_data[header].deserialize(payload)\n",
      "  File \"C:\\ProgramData\\Anaconda3\\lib\\site-packages\\funcx\\serialize\\concretes.py\", line 27, in deserialize\n",
      "    data = pickle.loads(codecs.decode(chomped.encode(), \"base64\"))\n",
      "  File \"C:\\Users\\Nikita\\AppData\\Roaming\\Python\\Python37\\site-packages\\parsl\\__init__.py\", line 22, in <module>\n",
      "    from parsl.app.app import bash_app, join_app, python_app\n",
      "  File \"C:\\Users\\Nikita\\AppData\\Roaming\\Python\\Python37\\site-packages\\parsl\\app\\app.py\", line 12, in <module>\n",
      "    from parsl.dataflow.dflow import DataFlowKernel\n",
      "  File \"C:\\Users\\Nikita\\AppData\\Roaming\\Python\\Python37\\site-packages\\parsl\\dataflow\\dflow.py\", line 27, in <module>\n",
      "    from parsl.dataflow.flow_control import FlowControl, Timer\n",
      "  File \"C:\\Users\\Nikita\\AppData\\Roaming\\Python\\Python37\\site-packages\\parsl\\dataflow\\flow_control.py\", line 6, in <module>\n",
      "    from parsl.dataflow.task_status_poller import TaskStatusPoller\n",
      "  File \"C:\\Users\\Nikita\\AppData\\Roaming\\Python\\Python37\\site-packages\\parsl\\dataflow\\task_status_poller.py\", line 10, in <module>\n",
      "    from parsl.dataflow.strategy import Strategy\n",
      "  File \"C:\\Users\\Nikita\\AppData\\Roaming\\Python\\Python37\\site-packages\\parsl\\dataflow\\strategy.py\", line 7, in <module>\n",
      "    from parsl.executors import HighThroughputExecutor, ExtremeScaleExecutor\n",
      "  File \"C:\\Users\\Nikita\\AppData\\Roaming\\Python\\Python37\\site-packages\\parsl\\executors\\__init__.py\", line 4, in <module>\n",
      "    from parsl.executors.high_throughput.executor import HighThroughputExecutor\n",
      "  File \"C:\\Users\\Nikita\\AppData\\Roaming\\Python\\Python37\\site-packages\\parsl\\executors\\high_throughput\\executor.py\", line 26, in <module>\n",
      "    from parsl.addresses import get_all_addresses\n",
      "  File \"C:\\Users\\Nikita\\AppData\\Roaming\\Python\\Python37\\site-packages\\parsl\\addresses.py\", line 13, in <module>\n",
      "    import fcntl\n",
      "ModuleNotFoundError: No module named 'fcntl'\n"
     ]
    }
   ],
   "source": [
    "endpoint_ids = ['00929e1a-ccc5-40be-8b04-c171f132f7b2', '11983ca1-2d45-40d1-b5a2-8736b3544dea']\n",
    "res = hello(endpoint_ids=endpoint_ids)"
   ]
  },
  {
   "cell_type": "code",
   "execution_count": null,
   "id": "78368774",
   "metadata": {},
   "outputs": [],
   "source": [
    "res[0].result()"
   ]
  }
 ],
 "metadata": {
  "kernelspec": {
   "display_name": "Python 3 (ipykernel)",
   "language": "python",
   "name": "python3"
  },
  "language_info": {
   "codemirror_mode": {
    "name": "ipython",
    "version": 3
   },
   "file_extension": ".py",
   "mimetype": "text/x-python",
   "name": "python",
   "nbconvert_exporter": "python",
   "pygments_lexer": "ipython3",
   "version": "3.7.10"
  }
 },
 "nbformat": 4,
 "nbformat_minor": 5
}
