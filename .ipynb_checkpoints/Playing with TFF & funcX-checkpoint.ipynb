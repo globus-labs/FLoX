{
 "cells": [
  {
   "cell_type": "code",
   "execution_count": null,
   "id": "716459e8",
   "metadata": {},
   "outputs": [],
   "source": [
    "!pip install --quiet --upgrade tensorflow-federated-nightly"
   ]
  },
  {
   "cell_type": "code",
   "execution_count": null,
   "id": "592089f8",
   "metadata": {},
   "outputs": [],
   "source": [
    "import collections\n",
    "import itertools\n",
    "import numpy as np\n",
    "\n",
    "from typing import Callable, List, Tuple\n",
    "\n",
    "import tensorflow as tf\n",
    "import tensorflow_federated as tff\n",
    "tff.backends.native.set_local_python_execution_context()"
   ]
  },
  {
   "cell_type": "code",
   "execution_count": null,
   "id": "fd6c0846",
   "metadata": {},
   "outputs": [],
   "source": []
  }
 ],
 "metadata": {
  "kernelspec": {
   "display_name": "Python 3 (ipykernel)",
   "language": "python",
   "name": "python3"
  },
  "language_info": {
   "codemirror_mode": {
    "name": "ipython",
    "version": 3
   },
   "file_extension": ".py",
   "mimetype": "text/x-python",
   "name": "python",
   "nbconvert_exporter": "python",
   "pygments_lexer": "ipython3",
   "version": "3.7.10"
  }
 },
 "nbformat": 4,
 "nbformat_minor": 5
}
