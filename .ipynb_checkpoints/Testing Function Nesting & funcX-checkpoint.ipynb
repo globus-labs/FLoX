{
 "cells": [
  {
   "cell_type": "code",
   "execution_count": 1,
   "id": "6eac573f",
   "metadata": {},
   "outputs": [],
   "source": [
    "def print_hello():\n",
    "    return \"hello\"\n",
    "\n",
    "def print_world():\n",
    "    return \"world\""
   ]
  },
  {
   "cell_type": "code",
   "execution_count": 2,
   "id": "80bba5fe",
   "metadata": {},
   "outputs": [],
   "source": [
    "def print_kek():\n",
    "    return \"kek\""
   ]
  },
  {
   "cell_type": "code",
   "execution_count": 3,
   "id": "2d309cd0",
   "metadata": {},
   "outputs": [],
   "source": [
    "def create_function(print_hello=print_hello, print_world=print_world):\n",
    "    \n",
    "    def print_hello_world(name):\n",
    "        word1 = print_hello()\n",
    "        word2 = print_world()\n",
    "        result = f\"{name}, {word1} {word2}!\"\n",
    "        \n",
    "        print(result)\n",
    "        \n",
    "        return result\n",
    "    \n",
    "    return print_hello_world"
   ]
  },
  {
   "cell_type": "code",
   "execution_count": 4,
   "id": "3ba777e2",
   "metadata": {},
   "outputs": [],
   "source": [
    "kek_function = create_function()"
   ]
  },
  {
   "cell_type": "code",
   "execution_count": 5,
   "id": "4e92ed19",
   "metadata": {
    "scrolled": true
   },
   "outputs": [
    {
     "name": "stdout",
     "output_type": "stream",
     "text": [
      "Kacj, hello world!\n"
     ]
    },
    {
     "data": {
      "text/plain": [
       "'Kacj, hello world!'"
      ]
     },
     "execution_count": 5,
     "metadata": {},
     "output_type": "execute_result"
    }
   ],
   "source": [
    "kek_function('Kacj')"
   ]
  },
  {
   "cell_type": "code",
   "execution_count": 6,
   "id": "9474a522",
   "metadata": {},
   "outputs": [
    {
     "name": "stderr",
     "output_type": "stream",
     "text": [
      "Caught unexpected while setting results\n",
      "Traceback (most recent call last):\n",
      "  File \"C:\\ProgramData\\Anaconda3\\lib\\site-packages\\funcx\\sdk\\asynchronous\\ws_polling_task.py\", line 125, in handle_incoming\n",
      "    data[\"exception\"]\n",
      "  File \"C:\\ProgramData\\Anaconda3\\lib\\site-packages\\funcx\\serialize\\facade.py\", line 156, in deserialize\n",
      "    result = self.methods_for_data[header].deserialize(payload)\n",
      "  File \"C:\\ProgramData\\Anaconda3\\lib\\site-packages\\funcx\\serialize\\concretes.py\", line 27, in deserialize\n",
      "    data = pickle.loads(codecs.decode(chomped.encode(), \"base64\"))\n",
      "  File \"C:\\Users\\Nikita\\AppData\\Roaming\\Python\\Python37\\site-packages\\parsl\\__init__.py\", line 22, in <module>\n",
      "    from parsl.app.app import bash_app, join_app, python_app\n",
      "  File \"C:\\Users\\Nikita\\AppData\\Roaming\\Python\\Python37\\site-packages\\parsl\\app\\app.py\", line 12, in <module>\n",
      "    from parsl.dataflow.dflow import DataFlowKernel\n",
      "  File \"C:\\Users\\Nikita\\AppData\\Roaming\\Python\\Python37\\site-packages\\parsl\\dataflow\\dflow.py\", line 23, in <module>\n",
      "    from parsl.config import Config\n",
      "  File \"C:\\Users\\Nikita\\AppData\\Roaming\\Python\\Python37\\site-packages\\parsl\\config.py\", line 7, in <module>\n",
      "    from parsl.executors.base import ParslExecutor\n",
      "  File \"C:\\Users\\Nikita\\AppData\\Roaming\\Python\\Python37\\site-packages\\parsl\\executors\\__init__.py\", line 4, in <module>\n",
      "    from parsl.executors.high_throughput.executor import HighThroughputExecutor\n",
      "  File \"C:\\Users\\Nikita\\AppData\\Roaming\\Python\\Python37\\site-packages\\parsl\\executors\\high_throughput\\executor.py\", line 26, in <module>\n",
      "    from parsl.addresses import get_all_addresses\n",
      "  File \"C:\\Users\\Nikita\\AppData\\Roaming\\Python\\Python37\\site-packages\\parsl\\addresses.py\", line 13, in <module>\n",
      "    import fcntl\n",
      "ModuleNotFoundError: No module named 'fcntl'\n",
      "Caught unexpected while setting results\n",
      "Traceback (most recent call last):\n",
      "  File \"C:\\ProgramData\\Anaconda3\\lib\\site-packages\\funcx\\sdk\\asynchronous\\ws_polling_task.py\", line 125, in handle_incoming\n",
      "    data[\"exception\"]\n",
      "  File \"C:\\ProgramData\\Anaconda3\\lib\\site-packages\\funcx\\serialize\\facade.py\", line 156, in deserialize\n",
      "    result = self.methods_for_data[header].deserialize(payload)\n",
      "  File \"C:\\ProgramData\\Anaconda3\\lib\\site-packages\\funcx\\serialize\\concretes.py\", line 27, in deserialize\n",
      "    data = pickle.loads(codecs.decode(chomped.encode(), \"base64\"))\n",
      "  File \"C:\\Users\\Nikita\\AppData\\Roaming\\Python\\Python37\\site-packages\\parsl\\__init__.py\", line 22, in <module>\n",
      "    from parsl.app.app import bash_app, join_app, python_app\n",
      "  File \"C:\\Users\\Nikita\\AppData\\Roaming\\Python\\Python37\\site-packages\\parsl\\app\\app.py\", line 12, in <module>\n",
      "    from parsl.dataflow.dflow import DataFlowKernel\n",
      "  File \"C:\\Users\\Nikita\\AppData\\Roaming\\Python\\Python37\\site-packages\\parsl\\dataflow\\dflow.py\", line 27, in <module>\n",
      "    from parsl.dataflow.flow_control import FlowControl, Timer\n",
      "  File \"C:\\Users\\Nikita\\AppData\\Roaming\\Python\\Python37\\site-packages\\parsl\\dataflow\\flow_control.py\", line 6, in <module>\n",
      "    from parsl.dataflow.task_status_poller import TaskStatusPoller\n",
      "  File \"C:\\Users\\Nikita\\AppData\\Roaming\\Python\\Python37\\site-packages\\parsl\\dataflow\\task_status_poller.py\", line 10, in <module>\n",
      "    from parsl.dataflow.strategy import Strategy\n",
      "  File \"C:\\Users\\Nikita\\AppData\\Roaming\\Python\\Python37\\site-packages\\parsl\\dataflow\\strategy.py\", line 7, in <module>\n",
      "    from parsl.executors import HighThroughputExecutor, ExtremeScaleExecutor\n",
      "  File \"C:\\Users\\Nikita\\AppData\\Roaming\\Python\\Python37\\site-packages\\parsl\\executors\\__init__.py\", line 4, in <module>\n",
      "    from parsl.executors.high_throughput.executor import HighThroughputExecutor\n",
      "  File \"C:\\Users\\Nikita\\AppData\\Roaming\\Python\\Python37\\site-packages\\parsl\\executors\\high_throughput\\executor.py\", line 26, in <module>\n",
      "    from parsl.addresses import get_all_addresses\n",
      "  File \"C:\\Users\\Nikita\\AppData\\Roaming\\Python\\Python37\\site-packages\\parsl\\addresses.py\", line 13, in <module>\n",
      "    import fcntl\n",
      "ModuleNotFoundError: No module named 'fcntl'\n"
     ]
    }
   ],
   "source": [
    "from funcx.sdk.client import FuncXClient\n",
    "from funcx.sdk.executor import FuncXExecutor\n",
    "\n",
    "fxc = FuncXClient()\n",
    "fx = FuncXExecutor(FuncXClient())\n",
    "\n",
    "endpoint_ids = ['00929e1a-ccc5-40be-8b04-c171f132f7b2', '11983ca1-2d45-40d1-b5a2-8736b3544dea']\n",
    "\n",
    "        # train the MNIST model on each of the endpoints and return the result, sending the global weights to each edge\n",
    "tasks = []\n",
    "for e in endpoint_ids:\n",
    "    tasks.append(fx.submit(kek_function, name='Nikitos', endpoint_id=e))"
   ]
  },
  {
   "cell_type": "code",
   "execution_count": null,
   "id": "a3c027af",
   "metadata": {},
   "outputs": [],
   "source": []
  }
 ],
 "metadata": {
  "kernelspec": {
   "display_name": "Python 3 (ipykernel)",
   "language": "python",
   "name": "python3"
  },
  "language_info": {
   "codemirror_mode": {
    "name": "ipython",
    "version": 3
   },
   "file_extension": ".py",
   "mimetype": "text/x-python",
   "name": "python",
   "nbconvert_exporter": "python",
   "pygments_lexer": "ipython3",
   "version": "3.7.10"
  }
 },
 "nbformat": 4,
 "nbformat_minor": 5
}
