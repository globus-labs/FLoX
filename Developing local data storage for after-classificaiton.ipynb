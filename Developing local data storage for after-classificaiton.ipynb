{
 "cells": [
  {
   "cell_type": "code",
   "execution_count": 1,
   "id": "5e0385bb",
   "metadata": {},
   "outputs": [],
   "source": [
    "from tensorflow import keras\n",
    "from tensorflow.keras import layers\n",
    "import numpy as np"
   ]
  },
  {
   "cell_type": "code",
   "execution_count": 5,
   "id": "bb58e6cd",
   "metadata": {},
   "outputs": [],
   "source": [
    "def get_train_data(num_samples=1000):\n",
    "    num_classes = 10\n",
    "    (x_train, y_train), _= keras.datasets.mnist.load_data()\n",
    "    \n",
    "    idx = np.random.choice(np.arange(len(x_train)), num_samples, replace=True)\n",
    "    x_train = x_train[idx]\n",
    "    y_train = y_train[idx]\n",
    "    \n",
    "    x_train = x_train.astype(\"float32\") / 255\n",
    "    x_train = np.expand_dims(x_train, -1)\n",
    "    y_train = keras.utils.to_categorical(y_train, num_classes)\n",
    "    return (x_train, y_train)\n",
    "\n",
    "def get_test_data(num_samples=1000):\n",
    "    num_classes = 10\n",
    "    _, (x_test, y_test) = keras.datasets.mnist.load_data()\n",
    "    \n",
    "    idx = np.random.choice(np.arange(len(x_test)), num_samples, replace=True)\n",
    "    x_test = x_test[idx]\n",
    "    y_test = y_test[idx]\n",
    "    \n",
    "    x_test = x_test.astype(\"float32\") / 255\n",
    "    x_test = np.expand_dims(x_test, -1)\n",
    "    y_test = keras.utils.to_categorical(y_test, num_classes)\n",
    "    return (x_test, y_test)"
   ]
  },
  {
   "cell_type": "code",
   "execution_count": 6,
   "id": "fb43a0c5",
   "metadata": {},
   "outputs": [],
   "source": [
    "(x_train, y_train) = get_train_data()\n",
    "(x_test, y_test) = get_test_data()"
   ]
  },
  {
   "cell_type": "code",
   "execution_count": 9,
   "id": "7d45e683",
   "metadata": {},
   "outputs": [
    {
     "name": "stdout",
     "output_type": "stream",
     "text": [
      "Epoch 1/20\n",
      "32/32 [==============================] - 0s 10ms/step - loss: 2.0883 - accuracy: 0.2500\n",
      "Epoch 2/20\n",
      "32/32 [==============================] - 0s 10ms/step - loss: 1.0913 - accuracy: 0.6700\n",
      "Epoch 3/20\n",
      "32/32 [==============================] - 0s 11ms/step - loss: 0.5995 - accuracy: 0.7920\n",
      "Epoch 4/20\n",
      "32/32 [==============================] - 0s 11ms/step - loss: 0.3975 - accuracy: 0.8700\n",
      "Epoch 5/20\n",
      "32/32 [==============================] - 0s 11ms/step - loss: 0.3235 - accuracy: 0.9010\n",
      "Epoch 6/20\n",
      "32/32 [==============================] - 0s 11ms/step - loss: 0.2911 - accuracy: 0.9110\n",
      "Epoch 7/20\n",
      "32/32 [==============================] - 0s 10ms/step - loss: 0.2527 - accuracy: 0.9280\n",
      "Epoch 8/20\n",
      "32/32 [==============================] - 0s 11ms/step - loss: 0.2153 - accuracy: 0.9330\n",
      "Epoch 9/20\n",
      "32/32 [==============================] - 0s 11ms/step - loss: 0.1673 - accuracy: 0.9480\n",
      "Epoch 10/20\n",
      "32/32 [==============================] - 0s 10ms/step - loss: 0.1424 - accuracy: 0.9610\n",
      "Epoch 11/20\n",
      "32/32 [==============================] - 0s 10ms/step - loss: 0.1354 - accuracy: 0.9610\n",
      "Epoch 12/20\n",
      "32/32 [==============================] - 0s 11ms/step - loss: 0.1490 - accuracy: 0.9520\n",
      "Epoch 13/20\n",
      "32/32 [==============================] - 0s 10ms/step - loss: 0.1065 - accuracy: 0.9690 0s - loss: 0.0949 - accuracy: 0.\n",
      "Epoch 14/20\n",
      "32/32 [==============================] - 0s 10ms/step - loss: 0.0998 - accuracy: 0.9710\n",
      "Epoch 15/20\n",
      "32/32 [==============================] - 0s 12ms/step - loss: 0.0964 - accuracy: 0.9700\n",
      "Epoch 16/20\n",
      "32/32 [==============================] - 0s 12ms/step - loss: 0.0868 - accuracy: 0.9710\n",
      "Epoch 17/20\n",
      "32/32 [==============================] - 0s 13ms/step - loss: 0.0873 - accuracy: 0.9720\n",
      "Epoch 18/20\n",
      "32/32 [==============================] - 0s 12ms/step - loss: 0.0789 - accuracy: 0.9780\n",
      "Epoch 19/20\n",
      "32/32 [==============================] - 0s 11ms/step - loss: 0.0682 - accuracy: 0.9830\n",
      "Epoch 20/20\n",
      "32/32 [==============================] - 0s 10ms/step - loss: 0.0557 - accuracy: 0.9810\n"
     ]
    },
    {
     "data": {
      "text/plain": [
       "<tensorflow.python.keras.callbacks.History at 0x1fc613f7148>"
      ]
     },
     "execution_count": 9,
     "metadata": {},
     "output_type": "execute_result"
    }
   ],
   "source": [
    "batch_size = 128\n",
    "epochs = 20\n",
    "input_shape = (28, 28, 1)\n",
    "num_classes = 10\n",
    "\n",
    "model = keras.Sequential(\n",
    "    [\n",
    "        keras.Input(shape=input_shape),\n",
    "        layers.Conv2D(32, kernel_size=(3, 3), activation=\"relu\"),\n",
    "        layers.MaxPooling2D(pool_size=(2, 2)),\n",
    "        layers.Conv2D(64, kernel_size=(3, 3), activation=\"relu\"),\n",
    "        layers.MaxPooling2D(pool_size=(2, 2)),\n",
    "        layers.Flatten(),\n",
    "        layers.Dropout(0.5),\n",
    "        layers.Dense(num_classes, activation=\"softmax\"),\n",
    "    ]\n",
    "    )\n",
    "\n",
    "model.compile(loss=\"categorical_crossentropy\", optimizer=\"adam\", metrics=[\"accuracy\"])\n",
    "model.fit(x_train, y_train, epochs = epochs)"
   ]
  },
  {
   "cell_type": "code",
   "execution_count": 19,
   "id": "f2465e08",
   "metadata": {},
   "outputs": [],
   "source": [
    "probs = model.predict(x_test)"
   ]
  },
  {
   "cell_type": "code",
   "execution_count": 51,
   "id": "f47be6d1",
   "metadata": {},
   "outputs": [
    {
     "data": {
      "text/plain": [
       "{0: 95, 1: 125, 2: 115, 3: 115, 4: 84, 5: 95, 6: 96, 7: 88, 8: 93, 9: 94}"
      ]
     },
     "execution_count": 51,
     "metadata": {},
     "output_type": "execute_result"
    }
   ],
   "source": [
    "predictions = np.argmax(probs, axis=1)\n",
    "\n",
    "unique, counts = np.unique(predictions, return_counts=True)\n",
    "unique = unique.tolist()\n",
    "counts = counts.tolist()\n",
    "\n",
    "pred_counts = dict(zip(unique, counts))\n",
    "pred_counts"
   ]
  },
  {
   "cell_type": "code",
   "execution_count": 59,
   "id": "0eb45945",
   "metadata": {},
   "outputs": [],
   "source": [
    "from datetime import datetime\n",
    "import json, codecs\n",
    "\n",
    "timestamp = datetime.now()\n",
    "date_time = timestamp.strftime(\"%m/%d/%Y, %H:%M:%S\")\n",
    "\n",
    "data = {\"timestamp\": date_time, \"pred_counts\": pred_counts}\n",
    "\n",
    "with open('results.txt', 'a', encoding='utf-8') as f:\n",
    "    json.dump(data, f, ensure_ascii=False, indent=4)"
   ]
  },
  {
   "cell_type": "code",
   "execution_count": 82,
   "id": "075102ad",
   "metadata": {
    "scrolled": true
   },
   "outputs": [
    {
     "ename": "UnsupportedOperation",
     "evalue": "not readable",
     "output_type": "error",
     "traceback": [
      "\u001b[1;31m---------------------------------------------------------------------------\u001b[0m",
      "\u001b[1;31mUnsupportedOperation\u001b[0m                      Traceback (most recent call last)",
      "\u001b[1;32m~\\AppData\\Local\\Temp/ipykernel_9948/1918040104.py\u001b[0m in \u001b[0;36m<module>\u001b[1;34m\u001b[0m\n\u001b[0;32m     21\u001b[0m \u001b[1;33m\u001b[0m\u001b[0m\n\u001b[0;32m     22\u001b[0m     \u001b[1;32mwith\u001b[0m \u001b[0mopen\u001b[0m\u001b[1;33m(\u001b[0m\u001b[1;34m'results.txt'\u001b[0m\u001b[1;33m,\u001b[0m \u001b[1;34m'a'\u001b[0m\u001b[1;33m,\u001b[0m \u001b[0mencoding\u001b[0m\u001b[1;33m=\u001b[0m\u001b[1;34m'utf-8'\u001b[0m\u001b[1;33m)\u001b[0m \u001b[1;32mas\u001b[0m \u001b[0mf\u001b[0m\u001b[1;33m:\u001b[0m\u001b[1;33m\u001b[0m\u001b[1;33m\u001b[0m\u001b[0m\n\u001b[1;32m---> 23\u001b[1;33m         \u001b[0mjson_data\u001b[0m \u001b[1;33m=\u001b[0m \u001b[0mjson\u001b[0m\u001b[1;33m.\u001b[0m\u001b[0mload\u001b[0m\u001b[1;33m(\u001b[0m\u001b[0mf\u001b[0m\u001b[1;33m)\u001b[0m\u001b[1;33m\u001b[0m\u001b[1;33m\u001b[0m\u001b[0m\n\u001b[0m\u001b[0;32m     24\u001b[0m         \u001b[0mjson_data\u001b[0m\u001b[1;33m.\u001b[0m\u001b[0mappend\u001b[0m\u001b[1;33m(\u001b[0m\u001b[0mdata\u001b[0m\u001b[1;33m)\u001b[0m\u001b[1;33m\u001b[0m\u001b[1;33m\u001b[0m\u001b[0m\n\u001b[0;32m     25\u001b[0m         \u001b[0mjson\u001b[0m\u001b[1;33m.\u001b[0m\u001b[0mdump\u001b[0m\u001b[1;33m(\u001b[0m\u001b[0mdata\u001b[0m\u001b[1;33m,\u001b[0m \u001b[0mf\u001b[0m\u001b[1;33m,\u001b[0m \u001b[0mensure_ascii\u001b[0m\u001b[1;33m=\u001b[0m\u001b[1;32mFalse\u001b[0m\u001b[1;33m,\u001b[0m \u001b[0mindent\u001b[0m\u001b[1;33m=\u001b[0m\u001b[1;36m4\u001b[0m\u001b[1;33m)\u001b[0m\u001b[1;33m\u001b[0m\u001b[1;33m\u001b[0m\u001b[0m\n",
      "\u001b[1;32mC:\\ProgramData\\Anaconda3\\lib\\json\\__init__.py\u001b[0m in \u001b[0;36mload\u001b[1;34m(fp, cls, object_hook, parse_float, parse_int, parse_constant, object_pairs_hook, **kw)\u001b[0m\n\u001b[0;32m    291\u001b[0m     \u001b[0mkwarg\u001b[0m\u001b[1;33m;\u001b[0m \u001b[0motherwise\u001b[0m\u001b[0;31m \u001b[0m\u001b[0;31m`\u001b[0m\u001b[0;31m`\u001b[0m\u001b[0mJSONDecoder\u001b[0m\u001b[0;31m`\u001b[0m\u001b[0;31m`\u001b[0m \u001b[1;32mis\u001b[0m \u001b[0mused\u001b[0m\u001b[1;33m.\u001b[0m\u001b[1;33m\u001b[0m\u001b[1;33m\u001b[0m\u001b[0m\n\u001b[0;32m    292\u001b[0m     \"\"\"\n\u001b[1;32m--> 293\u001b[1;33m     return loads(fp.read(),\n\u001b[0m\u001b[0;32m    294\u001b[0m         \u001b[0mcls\u001b[0m\u001b[1;33m=\u001b[0m\u001b[0mcls\u001b[0m\u001b[1;33m,\u001b[0m \u001b[0mobject_hook\u001b[0m\u001b[1;33m=\u001b[0m\u001b[0mobject_hook\u001b[0m\u001b[1;33m,\u001b[0m\u001b[1;33m\u001b[0m\u001b[1;33m\u001b[0m\u001b[0m\n\u001b[0;32m    295\u001b[0m         \u001b[0mparse_float\u001b[0m\u001b[1;33m=\u001b[0m\u001b[0mparse_float\u001b[0m\u001b[1;33m,\u001b[0m \u001b[0mparse_int\u001b[0m\u001b[1;33m=\u001b[0m\u001b[0mparse_int\u001b[0m\u001b[1;33m,\u001b[0m\u001b[1;33m\u001b[0m\u001b[1;33m\u001b[0m\u001b[0m\n",
      "\u001b[1;31mUnsupportedOperation\u001b[0m: not readable"
     ]
    }
   ],
   "source": [
    "from datetime import datetime\n",
    "import json, codecs\n",
    "\n",
    "for i in range(1):\n",
    "    (x_test, y_test) = get_test_data()\n",
    "    \n",
    "    probs = model.predict(x_test)\n",
    "    \n",
    "    predictions = np.argmax(probs, axis=1)\n",
    "\n",
    "    unique, counts = np.unique(predictions, return_counts=True)\n",
    "    unique = unique.tolist()\n",
    "    counts = counts.tolist()\n",
    "\n",
    "    pred_counts = dict(zip(unique, counts))\n",
    "    \n",
    "    timestamp = datetime.now()\n",
    "    date_time = timestamp.strftime(\"%m/%d/%Y, %H:%M:%S\")\n",
    "\n",
    "    data = {\"timestamp\": date_time, \"pred_counts\": pred_counts}\n",
    "\n",
    "    with open('results.txt', 'a', encoding='utf-8') as f:\n",
    "        json_data = json.load(f)\n",
    "        json_data.append(data)\n",
    "        json.dump(data, f, ensure_ascii=False, indent=4)"
   ]
  },
  {
   "cell_type": "code",
   "execution_count": 97,
   "id": "537c55a3",
   "metadata": {},
   "outputs": [],
   "source": [
    "from datetime import datetime\n",
    "import csv\n",
    "\n",
    "for i in range(3):\n",
    "    (x_test, y_test) = get_test_data()\n",
    "    \n",
    "    probs = model.predict(x_test)\n",
    "    \n",
    "    predictions = np.argmax(probs, axis=1)\n",
    "\n",
    "    unique, counts = np.unique(predictions, return_counts=True)\n",
    "    unique = unique.tolist()\n",
    "    counts = counts.tolist()\n",
    "\n",
    "    pred_counts = dict(zip(unique, counts))\n",
    "    \n",
    "    timestamp = datetime.now()\n",
    "    date_time = timestamp.strftime(\"%m/%d/%Y, %H:%M:%S\")\n",
    "\n",
    "    data = {\"timestamp\": date_time, \"pred_counts\": pred_counts}\n",
    "\n",
    "    with open('results.csv', 'a', newline='') as f:\n",
    "        writer = csv.writer(f, delimiter=\"|\")\n",
    "        writer.writerow([date_time, pred_counts])"
   ]
  },
  {
   "cell_type": "code",
   "execution_count": 98,
   "id": "191e9e5f",
   "metadata": {},
   "outputs": [],
   "source": [
    "def store_inference_results(probs):\n",
    "    from datetime import datetime\n",
    "    import csv\n",
    "\n",
    "    predictions = np.argmax(probs, axis=1)\n",
    "\n",
    "    unique, counts = np.unique(predictions, return_counts=True)\n",
    "    unique = unique.tolist()\n",
    "    counts = counts.tolist()\n",
    "\n",
    "    pred_counts = dict(zip(unique, counts))\n",
    "\n",
    "    timestamp = datetime.now()\n",
    "    date_time = timestamp.strftime(\"%m/%d/%Y, %H:%M:%S\")\n",
    "\n",
    "    with open('results.csv', 'a', newline='') as f:\n",
    "        writer = csv.writer(f)\n",
    "        writer.writerow([date_time, pred_counts])"
   ]
  },
  {
   "cell_type": "code",
   "execution_count": 2,
   "id": "1d1f8f49",
   "metadata": {},
   "outputs": [],
   "source": [
    "def federated_decorator(func):\n",
    "    \"\"\"\n",
    "    Returns a wrapped function that can be deployed to funcx endpoints when given endpoint_ids\n",
    "\n",
    "    Parameters\n",
    "    ----------\n",
    "    func: function\n",
    "        the function to be deployed to funcx endpoints\n",
    "\n",
    "    Returns\n",
    "    -------\n",
    "    wrapper: function\n",
    "        the wrapped function func\n",
    "    \n",
    "    \"\"\"\n",
    "    def wrapper(*args, **kwargs):\n",
    "        \"\"\"\n",
    "        Returns a wrapped function that is deployed to specified funcx endpoints.\n",
    "\n",
    "        Parameters\n",
    "        ----------\n",
    "        *args: positional arguments\n",
    "\n",
    "        **kwargs: keyword arguments\n",
    "            when using a wrapped function, you need to pass in parameters as \n",
    "            keywords\n",
    "\n",
    "        Returns\n",
    "        -------\n",
    "        tasks: list\n",
    "            contains funcx task objects from which the original result can be retrieved with\n",
    "            task[i].result()\n",
    "\n",
    "        \"\"\"\n",
    "        fx = FuncXExecutor(FuncXClient())\n",
    "        tasks = []\n",
    "\n",
    "        # for each endpoint, submit the function with **kwargs to it\n",
    "        for e in kwargs[\"endpoint_ids\"]:\n",
    "            tasks.append(fx.submit(func, \n",
    "                                   **kwargs,\n",
    "                                    endpoint_id=e))\n",
    "        return tasks\n",
    "    \n",
    "    return wrapper"
   ]
  },
  {
   "cell_type": "code",
   "execution_count": 13,
   "id": "8a9afb7d",
   "metadata": {},
   "outputs": [],
   "source": [
    "@federated_decorator\n",
    "def retrieve_inference_results(path_dir, filename):\n",
    "    import os\n",
    "    import csv\n",
    "    \n",
    "    # construct the path\n",
    "    results_file = os.sep.join([path_dir, filename])\n",
    "    \n",
    "    rows = []\n",
    "    with open(results_file, 'r') as f:\n",
    "        reader = csv.reader(f, delimiter='|')\n",
    "        for row in reader:\n",
    "            rows.append(row)\n",
    "        \n",
    "    return rows"
   ]
  },
  {
   "cell_type": "code",
   "execution_count": 9,
   "id": "da6ee166",
   "metadata": {
    "scrolled": true
   },
   "outputs": [
    {
     "name": "stderr",
     "output_type": "stream",
     "text": [
      "[NON-CRITICAL] Off_process_checker instantiation failed. Continuing...\n",
      "Traceback (most recent call last):\n",
      "  File \"C:\\ProgramData\\Anaconda3\\lib\\site-packages\\funcx\\serialize\\facade.py\", line 32, in __init__\n",
      "    port = self._start_off_process_checker()\n",
      "  File \"C:\\ProgramData\\Anaconda3\\lib\\site-packages\\funcx\\serialize\\facade.py\", line 60, in _start_off_process_checker\n",
      "    [\"off_process_checker.py\"], stdout=std_out, stderr=subprocess.STDOUT\n",
      "  File \"C:\\ProgramData\\Anaconda3\\lib\\subprocess.py\", line 800, in __init__\n",
      "    restore_signals, start_new_session)\n",
      "  File \"C:\\ProgramData\\Anaconda3\\lib\\subprocess.py\", line 1207, in _execute_child\n",
      "    startupinfo)\n",
      "OSError: [WinError 193] %1 is not a valid Win32 application\n"
     ]
    }
   ],
   "source": [
    "fx = FuncXExecutor(FuncXClient())\n",
    "\n",
    "cur_path = '/home/pi/globus'\n",
    "name = 'results.csv'\n",
    "\n",
    "tasks = []\n",
    "\n",
    "# for each endpoint, submit the function with **kwargs to it\n",
    "for e in endpoint_ids:\n",
    "    tasks.append(fx.submit(retrieve_inference_results, \n",
    "                           path_dir=cur_path,\n",
    "                           filename=name,\n",
    "                            endpoint_id=e))"
   ]
  },
  {
   "cell_type": "code",
   "execution_count": 12,
   "id": "fbc89c4d",
   "metadata": {},
   "outputs": [
    {
     "data": {
      "text/plain": [
       "[['yeey', 'data'], ['anotheryyer', 'moredata']]"
      ]
     },
     "execution_count": 12,
     "metadata": {},
     "output_type": "execute_result"
    }
   ],
   "source": [
    "tasks[0].result()"
   ]
  },
  {
   "cell_type": "code",
   "execution_count": 14,
   "id": "3a6079a0",
   "metadata": {},
   "outputs": [
    {
     "name": "stderr",
     "output_type": "stream",
     "text": [
      "[NON-CRITICAL] Off_process_checker instantiation failed. Continuing...\n",
      "Traceback (most recent call last):\n",
      "  File \"C:\\ProgramData\\Anaconda3\\lib\\site-packages\\funcx\\serialize\\facade.py\", line 32, in __init__\n",
      "    port = self._start_off_process_checker()\n",
      "  File \"C:\\ProgramData\\Anaconda3\\lib\\site-packages\\funcx\\serialize\\facade.py\", line 60, in _start_off_process_checker\n",
      "    [\"off_process_checker.py\"], stdout=std_out, stderr=subprocess.STDOUT\n",
      "  File \"C:\\ProgramData\\Anaconda3\\lib\\subprocess.py\", line 800, in __init__\n",
      "    restore_signals, start_new_session)\n",
      "  File \"C:\\ProgramData\\Anaconda3\\lib\\subprocess.py\", line 1207, in _execute_child\n",
      "    startupinfo)\n",
      "OSError: [WinError 193] %1 is not a valid Win32 application\n",
      "Caught unexpected exception while setting results\n",
      "Traceback (most recent call last):\n",
      "  File \"C:\\ProgramData\\Anaconda3\\lib\\site-packages\\funcx\\sdk\\asynchronous\\ws_polling_task.py\", line 200, in set_result\n",
      "    data[\"exception\"]\n",
      "  File \"C:\\ProgramData\\Anaconda3\\lib\\site-packages\\funcx\\serialize\\facade.py\", line 156, in deserialize\n",
      "    result = self.methods_for_data[header].deserialize(payload)\n",
      "  File \"C:\\ProgramData\\Anaconda3\\lib\\site-packages\\funcx\\serialize\\concretes.py\", line 27, in deserialize\n",
      "    data = pickle.loads(codecs.decode(chomped.encode(), \"base64\"))\n",
      "  File \"C:\\Users\\Nikita\\AppData\\Roaming\\Python\\Python37\\site-packages\\parsl\\__init__.py\", line 22, in <module>\n",
      "    from parsl.app.app import bash_app, join_app, python_app\n",
      "  File \"C:\\Users\\Nikita\\AppData\\Roaming\\Python\\Python37\\site-packages\\parsl\\app\\app.py\", line 12, in <module>\n",
      "    from parsl.dataflow.dflow import DataFlowKernel\n",
      "  File \"C:\\Users\\Nikita\\AppData\\Roaming\\Python\\Python37\\site-packages\\parsl\\dataflow\\dflow.py\", line 27, in <module>\n",
      "    from parsl.dataflow.flow_control import FlowControl, Timer\n",
      "  File \"C:\\Users\\Nikita\\AppData\\Roaming\\Python\\Python37\\site-packages\\parsl\\dataflow\\flow_control.py\", line 6, in <module>\n",
      "    from parsl.dataflow.task_status_poller import TaskStatusPoller\n",
      "  File \"C:\\Users\\Nikita\\AppData\\Roaming\\Python\\Python37\\site-packages\\parsl\\dataflow\\task_status_poller.py\", line 10, in <module>\n",
      "    from parsl.dataflow.strategy import Strategy\n",
      "  File \"C:\\Users\\Nikita\\AppData\\Roaming\\Python\\Python37\\site-packages\\parsl\\dataflow\\strategy.py\", line 7, in <module>\n",
      "    from parsl.executors import HighThroughputExecutor, ExtremeScaleExecutor\n",
      "  File \"C:\\Users\\Nikita\\AppData\\Roaming\\Python\\Python37\\site-packages\\parsl\\executors\\__init__.py\", line 4, in <module>\n",
      "    from parsl.executors.high_throughput.executor import HighThroughputExecutor\n",
      "  File \"C:\\Users\\Nikita\\AppData\\Roaming\\Python\\Python37\\site-packages\\parsl\\executors\\high_throughput\\executor.py\", line 26, in <module>\n",
      "    from parsl.addresses import get_all_addresses\n",
      "  File \"C:\\Users\\Nikita\\AppData\\Roaming\\Python\\Python37\\site-packages\\parsl\\addresses.py\", line 13, in <module>\n",
      "    import fcntl\n",
      "ModuleNotFoundError: No module named 'fcntl'\n",
      "Caught unexpected exception while setting results\n",
      "Traceback (most recent call last):\n",
      "  File \"C:\\ProgramData\\Anaconda3\\lib\\site-packages\\funcx\\sdk\\asynchronous\\ws_polling_task.py\", line 200, in set_result\n",
      "    data[\"exception\"]\n",
      "  File \"C:\\ProgramData\\Anaconda3\\lib\\site-packages\\funcx\\serialize\\facade.py\", line 156, in deserialize\n",
      "    result = self.methods_for_data[header].deserialize(payload)\n",
      "  File \"C:\\ProgramData\\Anaconda3\\lib\\site-packages\\funcx\\serialize\\concretes.py\", line 27, in deserialize\n",
      "    data = pickle.loads(codecs.decode(chomped.encode(), \"base64\"))\n",
      "  File \"C:\\Users\\Nikita\\AppData\\Roaming\\Python\\Python37\\site-packages\\parsl\\__init__.py\", line 22, in <module>\n",
      "    from parsl.app.app import bash_app, join_app, python_app\n",
      "  File \"C:\\Users\\Nikita\\AppData\\Roaming\\Python\\Python37\\site-packages\\parsl\\app\\app.py\", line 12, in <module>\n",
      "    from parsl.dataflow.dflow import DataFlowKernel\n",
      "  File \"C:\\Users\\Nikita\\AppData\\Roaming\\Python\\Python37\\site-packages\\parsl\\dataflow\\dflow.py\", line 27, in <module>\n",
      "    from parsl.dataflow.flow_control import FlowControl, Timer\n",
      "  File \"C:\\Users\\Nikita\\AppData\\Roaming\\Python\\Python37\\site-packages\\parsl\\dataflow\\flow_control.py\", line 6, in <module>\n",
      "    from parsl.dataflow.task_status_poller import TaskStatusPoller\n",
      "  File \"C:\\Users\\Nikita\\AppData\\Roaming\\Python\\Python37\\site-packages\\parsl\\dataflow\\task_status_poller.py\", line 10, in <module>\n",
      "    from parsl.dataflow.strategy import Strategy\n",
      "  File \"C:\\Users\\Nikita\\AppData\\Roaming\\Python\\Python37\\site-packages\\parsl\\dataflow\\strategy.py\", line 7, in <module>\n",
      "    from parsl.executors import HighThroughputExecutor, ExtremeScaleExecutor\n",
      "  File \"C:\\Users\\Nikita\\AppData\\Roaming\\Python\\Python37\\site-packages\\parsl\\executors\\__init__.py\", line 4, in <module>\n",
      "    from parsl.executors.high_throughput.executor import HighThroughputExecutor\n",
      "  File \"C:\\Users\\Nikita\\AppData\\Roaming\\Python\\Python37\\site-packages\\parsl\\executors\\high_throughput\\executor.py\", line 26, in <module>\n",
      "    from parsl.addresses import get_all_addresses\n",
      "  File \"C:\\Users\\Nikita\\AppData\\Roaming\\Python\\Python37\\site-packages\\parsl\\addresses.py\", line 13, in <module>\n",
      "    import fcntl\n",
      "ModuleNotFoundError: No module named 'fcntl'\n"
     ]
    }
   ],
   "source": [
    "import os\n",
    "from funcx.sdk.client import FuncXClient\n",
    "from funcx.sdk.executor import FuncXExecutor\n",
    "\n",
    "#cur_path = os.getcwd()\n",
    "cur_path = '/home/pi/globus'\n",
    "name = 'results.csv'\n",
    "\n",
    "endpoint_ids = [\"6d2cc03e-565d-494b-9bdf-0ba0acdc606f\", \"11983ca1-2d45-40d1-b5a2-8736b3544dea\"]\n",
    "\n",
    "results = retrieve_inference_results(path_dir=cur_path, filename=name, endpoint_ids=endpoint_ids)"
   ]
  },
  {
   "cell_type": "code",
   "execution_count": null,
   "id": "cd670063",
   "metadata": {},
   "outputs": [],
   "source": []
  }
 ],
 "metadata": {
  "kernelspec": {
   "display_name": "Python 3 (ipykernel)",
   "language": "python",
   "name": "python3"
  },
  "language_info": {
   "codemirror_mode": {
    "name": "ipython",
    "version": 3
   },
   "file_extension": ".py",
   "mimetype": "text/x-python",
   "name": "python",
   "nbconvert_exporter": "python",
   "pygments_lexer": "ipython3",
   "version": "3.7.10"
  }
 },
 "nbformat": 4,
 "nbformat_minor": 5
}
